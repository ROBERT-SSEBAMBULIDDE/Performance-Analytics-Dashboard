{
  "cells": [
    {
      "cell_type": "markdown",
      "source": "#                              CREDIT ANALYTICS",
      "metadata": {
        "formattedRanges": [],
        "cell_id": "6895a1c16c2e4ff2afcebbd370040987",
        "deepnote_cell_type": "text-cell-h1"
      },
      "block_group": "f54f0169b1e343fd97c4f61220cfdff8"
    },
    {
      "cell_type": "markdown",
      "source": "Libraries to load and read data from bigquery",
      "metadata": {
        "formattedRanges": [],
        "cell_id": "27747e19ac764ec191ffefaaaf0693e6",
        "deepnote_cell_type": "text-cell-p"
      },
      "block_group": "2dc4e8e98d614ba4bcfe311f155b9cc4"
    },
    {
      "cell_type": "code",
      "source": "#installing packages\n#!pip install db-dtypes\n#!pip install pandas_gbq",
      "metadata": {
        "source_hash": null,
        "execution_start": 1701073393443,
        "execution_millis": 18,
        "deepnote_to_be_reexecuted": false,
        "cell_id": "e73fbf76b1a64cad930b7cecef2ca078",
        "deepnote_cell_type": "code"
      },
      "outputs": [],
      "execution_count": null,
      "block_group": "e082c1104cae42469a976b9499f02369"
    },
    {
      "cell_type": "code",
      "source": "from google.cloud import bigquery\nfrom google.oauth2 import service_account\nimport pandas_gbq",
      "metadata": {
        "source_hash": null,
        "execution_start": 1701073266046,
        "execution_millis": 7,
        "deepnote_to_be_reexecuted": false,
        "cell_id": "ad9d1de41d3746a582cc2ada8f4ee785",
        "deepnote_cell_type": "code"
      },
      "outputs": [],
      "execution_count": null,
      "block_group": "ea45fdd7ddcb4485a33b39a61b56fcb6"
    },
    {
      "cell_type": "markdown",
      "source": "> CREATE CONNECTION TO BIGQUERY",
      "metadata": {
        "cell_id": "d6ebe057849f49db9dd9bac53fb33e39",
        "deepnote_cell_type": "text-cell-callout"
      },
      "block_group": "5b2527fa6b1f4fa6a29267ccb54e51ca"
    },
    {
      "cell_type": "code",
      "source": "# Constants\nPROJECT_ID = 'datapro-405709'\nKEY_PATH = '/work/datapro-405709-6e4eacf25d80.json'\n\n#Credentials and Client\nfrom google.oauth2 import service_account\ncredentials = service_account.Credentials.from_service_account_file(KEY_PATH)\nclient = bigquery.Client(credentials=credentials, project=PROJECT_ID)\n\n# Display the client details\nclient",
      "metadata": {
        "source_hash": null,
        "execution_start": 1701073294416,
        "execution_millis": 266,
        "deepnote_to_be_reexecuted": false,
        "cell_id": "3cb36b7af9124624a52486ad9164e955",
        "deepnote_cell_type": "code"
      },
      "outputs": [
        {
          "output_type": "execute_result",
          "execution_count": 10,
          "data": {
            "text/plain": "<google.cloud.bigquery.client.Client at 0x7f5dd1f9bfa0>"
          },
          "metadata": {}
        }
      ],
      "execution_count": null,
      "block_group": "f6df885aaedc4846aee36fda89d21e5f"
    },
    {
      "cell_type": "markdown",
      "source": "> READ AND LOAD DATA FROM BIGQUERY",
      "metadata": {
        "cell_id": "d1a293ff1987493f91dfcff142d37c0f",
        "deepnote_cell_type": "text-cell-callout"
      },
      "block_group": "9a5925892d7d4961864eeaf8e5e82835"
    },
    {
      "cell_type": "code",
      "source": "\nquery = \"SELECT * FROM `Credit_Business.Disbursements`\"\nquery_job = client.query(query)\ndf = query_job.to_dataframe()\ndf.head()",
      "metadata": {
        "source_hash": null,
        "execution_start": 1701073317651,
        "execution_millis": 1968,
        "deepnote_to_be_reexecuted": false,
        "cell_id": "935dd7292292447f9d6807c1ce94ca92",
        "deepnote_cell_type": "code"
      },
      "outputs": [
        {
          "output_type": "execute_result",
          "execution_count": 11,
          "data": {
            "application/vnd.deepnote.dataframe.v3+json": {
              "column_count": 23,
              "row_count": 5,
              "columns": [
                {
                  "name": "S_N",
                  "dtype": "Int64",
                  "stats": {
                    "unique_count": 5,
                    "nan_count": 0,
                    "categories": [
                      {
                        "name": "1895",
                        "count": 1
                      },
                      {
                        "name": "7566",
                        "count": 1
                      },
                      {
                        "name": "3 others",
                        "count": 3
                      }
                    ]
                  }
                },
                {
                  "name": "Branch_Code",
                  "dtype": "Int64",
                  "stats": {
                    "unique_count": 1,
                    "nan_count": 0,
                    "categories": [
                      {
                        "name": "0",
                        "count": 5
                      }
                    ]
                  }
                },
                {
                  "name": "Branch_Name",
                  "dtype": "object",
                  "stats": {
                    "unique_count": 1,
                    "nan_count": 0,
                    "categories": [
                      {
                        "name": "Head Office",
                        "count": 5
                      }
                    ]
                  }
                },
                {
                  "name": "Account_Number",
                  "dtype": "float64",
                  "stats": {
                    "unique_count": 4,
                    "nan_count": 0,
                    "min": "106052000000.0",
                    "max": "106076000000.0",
                    "histogram": [
                      {
                        "bin_start": 106052000000,
                        "bin_end": 106054400000,
                        "count": 1
                      },
                      {
                        "bin_start": 106054400000,
                        "bin_end": 106056800000,
                        "count": 0
                      },
                      {
                        "bin_start": 106056800000,
                        "bin_end": 106059200000,
                        "count": 0
                      },
                      {
                        "bin_start": 106059200000,
                        "bin_end": 106061600000,
                        "count": 1
                      },
                      {
                        "bin_start": 106061600000,
                        "bin_end": 106064000000,
                        "count": 0
                      },
                      {
                        "bin_start": 106064000000,
                        "bin_end": 106066400000,
                        "count": 0
                      },
                      {
                        "bin_start": 106066400000,
                        "bin_end": 106068800000,
                        "count": 0
                      },
                      {
                        "bin_start": 106068800000,
                        "bin_end": 106071200000,
                        "count": 0
                      },
                      {
                        "bin_start": 106071200000,
                        "bin_end": 106073600000,
                        "count": 1
                      },
                      {
                        "bin_start": 106073600000,
                        "bin_end": 106076000000,
                        "count": 2
                      }
                    ]
                  }
                },
                {
                  "name": "Account_Name",
                  "dtype": "object",
                  "stats": {
                    "unique_count": 5,
                    "nan_count": 0,
                    "categories": [
                      {
                        "name": "Isaac Ekwamu  Adupu",
                        "count": 1
                      },
                      {
                        "name": "Joseph  Musajjawaza",
                        "count": 1
                      },
                      {
                        "name": "3 others",
                        "count": 3
                      }
                    ]
                  }
                },
                {
                  "name": "Gender",
                  "dtype": "object",
                  "stats": {
                    "unique_count": 2,
                    "nan_count": 0,
                    "categories": [
                      {
                        "name": "M",
                        "count": 4
                      },
                      {
                        "name": "F",
                        "count": 1
                      }
                    ]
                  }
                },
                {
                  "name": "Birth_date",
                  "dtype": "dbdate",
                  "stats": {
                    "unique_count": 5,
                    "nan_count": 0,
                    "categories": [
                      {
                        "name": "1987-08-08",
                        "count": 1
                      },
                      {
                        "name": "1992-05-02",
                        "count": 1
                      },
                      {
                        "name": "3 others",
                        "count": 3
                      }
                    ]
                  }
                },
                {
                  "name": "Product",
                  "dtype": "object",
                  "stats": {
                    "unique_count": 1,
                    "nan_count": 0,
                    "categories": [
                      {
                        "name": "Staff Salary Advance",
                        "count": 5
                      }
                    ]
                  }
                },
                {
                  "name": "Sector",
                  "dtype": "object",
                  "stats": {
                    "unique_count": 2,
                    "nan_count": 0,
                    "categories": [
                      {
                        "name": "Personal Loans and Household Loans",
                        "count": 4
                      },
                      {
                        "name": "Trade",
                        "count": 1
                      }
                    ]
                  }
                },
                {
                  "name": "Loan_Cycle",
                  "dtype": "Int64",
                  "stats": {
                    "unique_count": 4,
                    "nan_count": 0,
                    "categories": [
                      {
                        "name": "8",
                        "count": 2
                      },
                      {
                        "name": "3",
                        "count": 1
                      },
                      {
                        "name": "2 others",
                        "count": 2
                      }
                    ]
                  }
                },
                {
                  "name": "Term",
                  "dtype": "object",
                  "stats": {
                    "unique_count": 1,
                    "nan_count": 0,
                    "categories": [
                      {
                        "name": "6 M",
                        "count": 5
                      }
                    ]
                  }
                },
                {
                  "name": "Disbursed___Amount",
                  "dtype": "float64",
                  "stats": {
                    "unique_count": 5,
                    "nan_count": 0,
                    "min": "1000000.0",
                    "max": "7500000.0",
                    "histogram": [
                      {
                        "bin_start": 1000000,
                        "bin_end": 1650000,
                        "count": 1
                      },
                      {
                        "bin_start": 1650000,
                        "bin_end": 2300000,
                        "count": 0
                      },
                      {
                        "bin_start": 2300000,
                        "bin_end": 2950000,
                        "count": 1
                      },
                      {
                        "bin_start": 2950000,
                        "bin_end": 3600000,
                        "count": 1
                      },
                      {
                        "bin_start": 3600000,
                        "bin_end": 4250000,
                        "count": 1
                      },
                      {
                        "bin_start": 4250000,
                        "bin_end": 4900000,
                        "count": 0
                      },
                      {
                        "bin_start": 4900000,
                        "bin_end": 5550000,
                        "count": 0
                      },
                      {
                        "bin_start": 5550000,
                        "bin_end": 6200000,
                        "count": 0
                      },
                      {
                        "bin_start": 6200000,
                        "bin_end": 6850000,
                        "count": 0
                      },
                      {
                        "bin_start": 6850000,
                        "bin_end": 7500000,
                        "count": 1
                      }
                    ]
                  }
                },
                {
                  "name": "Interest_Rate",
                  "dtype": "float64",
                  "stats": {
                    "unique_count": 1,
                    "nan_count": 0,
                    "min": "0.0",
                    "max": "0.0",
                    "histogram": [
                      {
                        "bin_start": -0.5,
                        "bin_end": -0.4,
                        "count": 0
                      },
                      {
                        "bin_start": -0.4,
                        "bin_end": -0.3,
                        "count": 0
                      },
                      {
                        "bin_start": -0.3,
                        "bin_end": -0.19999999999999996,
                        "count": 0
                      },
                      {
                        "bin_start": -0.19999999999999996,
                        "bin_end": -0.09999999999999998,
                        "count": 0
                      },
                      {
                        "bin_start": -0.09999999999999998,
                        "bin_end": 0,
                        "count": 0
                      },
                      {
                        "bin_start": 0,
                        "bin_end": 0.10000000000000009,
                        "count": 5
                      },
                      {
                        "bin_start": 0.10000000000000009,
                        "bin_end": 0.20000000000000007,
                        "count": 0
                      },
                      {
                        "bin_start": 0.20000000000000007,
                        "bin_end": 0.30000000000000004,
                        "count": 0
                      },
                      {
                        "bin_start": 0.30000000000000004,
                        "bin_end": 0.4,
                        "count": 0
                      },
                      {
                        "bin_start": 0.4,
                        "bin_end": 0.5,
                        "count": 0
                      }
                    ]
                  }
                },
                {
                  "name": "Principal_Outstanding",
                  "dtype": "float64",
                  "stats": {
                    "unique_count": 5,
                    "nan_count": 0,
                    "min": "1000000.0",
                    "max": "7500000.0",
                    "histogram": [
                      {
                        "bin_start": 1000000,
                        "bin_end": 1650000,
                        "count": 1
                      },
                      {
                        "bin_start": 1650000,
                        "bin_end": 2300000,
                        "count": 0
                      },
                      {
                        "bin_start": 2300000,
                        "bin_end": 2950000,
                        "count": 1
                      },
                      {
                        "bin_start": 2950000,
                        "bin_end": 3600000,
                        "count": 1
                      },
                      {
                        "bin_start": 3600000,
                        "bin_end": 4250000,
                        "count": 1
                      },
                      {
                        "bin_start": 4250000,
                        "bin_end": 4900000,
                        "count": 0
                      },
                      {
                        "bin_start": 4900000,
                        "bin_end": 5550000,
                        "count": 0
                      },
                      {
                        "bin_start": 5550000,
                        "bin_end": 6200000,
                        "count": 0
                      },
                      {
                        "bin_start": 6200000,
                        "bin_end": 6850000,
                        "count": 0
                      },
                      {
                        "bin_start": 6850000,
                        "bin_end": 7500000,
                        "count": 1
                      }
                    ]
                  }
                },
                {
                  "name": "Interest_Outstanding",
                  "dtype": "float64",
                  "stats": {
                    "unique_count": 1,
                    "nan_count": 0,
                    "min": "0.0",
                    "max": "0.0",
                    "histogram": [
                      {
                        "bin_start": -0.5,
                        "bin_end": -0.4,
                        "count": 0
                      },
                      {
                        "bin_start": -0.4,
                        "bin_end": -0.3,
                        "count": 0
                      },
                      {
                        "bin_start": -0.3,
                        "bin_end": -0.19999999999999996,
                        "count": 0
                      },
                      {
                        "bin_start": -0.19999999999999996,
                        "bin_end": -0.09999999999999998,
                        "count": 0
                      },
                      {
                        "bin_start": -0.09999999999999998,
                        "bin_end": 0,
                        "count": 0
                      },
                      {
                        "bin_start": 0,
                        "bin_end": 0.10000000000000009,
                        "count": 5
                      },
                      {
                        "bin_start": 0.10000000000000009,
                        "bin_end": 0.20000000000000007,
                        "count": 0
                      },
                      {
                        "bin_start": 0.20000000000000007,
                        "bin_end": 0.30000000000000004,
                        "count": 0
                      },
                      {
                        "bin_start": 0.30000000000000004,
                        "bin_end": 0.4,
                        "count": 0
                      },
                      {
                        "bin_start": 0.4,
                        "bin_end": 0.5,
                        "count": 0
                      }
                    ]
                  }
                },
                {
                  "name": "Grace_Period",
                  "dtype": "object",
                  "stats": {
                    "unique_count": 0,
                    "nan_count": 5,
                    "categories": [
                      {
                        "name": "Missing",
                        "count": 5
                      }
                    ]
                  }
                },
                {
                  "name": "Due_days",
                  "dtype": "Int64",
                  "stats": {
                    "unique_count": 1,
                    "nan_count": 0,
                    "categories": [
                      {
                        "name": "0",
                        "count": 5
                      }
                    ]
                  }
                },
                {
                  "name": "Disbursed_Date",
                  "dtype": "dbdate",
                  "stats": {
                    "unique_count": 4,
                    "nan_count": 0,
                    "categories": [
                      {
                        "name": "2023-11-10",
                        "count": 2
                      },
                      {
                        "name": "2023-11-07",
                        "count": 1
                      },
                      {
                        "name": "2 others",
                        "count": 2
                      }
                    ]
                  }
                },
                {
                  "name": "Disbursed_By",
                  "dtype": "object",
                  "stats": {
                    "unique_count": 2,
                    "nan_count": 0,
                    "categories": [
                      {
                        "name": "ODONG ALEX",
                        "count": 4
                      },
                      {
                        "name": "NAMIREMBE MILLY",
                        "count": 1
                      }
                    ]
                  }
                },
                {
                  "name": "Approved_By",
                  "dtype": "object",
                  "stats": {
                    "unique_count": 4,
                    "nan_count": 0,
                    "categories": [
                      {
                        "name": "Yahaya Ochaya",
                        "count": 2
                      },
                      {
                        "name": "Solomon Mwesigwa",
                        "count": 1
                      },
                      {
                        "name": "2 others",
                        "count": 2
                      }
                    ]
                  }
                },
                {
                  "name": "Insurance_company",
                  "dtype": "object",
                  "stats": {
                    "unique_count": 0,
                    "nan_count": 5,
                    "categories": [
                      {
                        "name": "Missing",
                        "count": 5
                      }
                    ]
                  }
                },
                {
                  "name": "Sub_Sector",
                  "dtype": "object",
                  "stats": {
                    "unique_count": 2,
                    "nan_count": 0,
                    "categories": [
                      {
                        "name": "Personal Loans and Household Loans",
                        "count": 4
                      },
                      {
                        "name": "Exports",
                        "count": 1
                      }
                    ]
                  }
                },
                {
                  "name": "GROUP___CUSTOMER_NUMBER",
                  "dtype": "Int64",
                  "stats": {
                    "unique_count": 0,
                    "nan_count": 5,
                    "categories": [
                      {
                        "name": "Missing",
                        "count": 5
                      }
                    ]
                  }
                },
                {
                  "name": "_deepnote_index_column",
                  "dtype": "int64"
                }
              ],
              "rows": [
                {
                  "S_N": "1895",
                  "Branch_Code": "0",
                  "Branch_Name": "Head Office",
                  "Account_Number": 106052000000,
                  "Account_Name": "Isaac Ekwamu  Adupu",
                  "Gender": "M",
                  "Birth_date": "1987-08-08",
                  "Product": "Staff Salary Advance",
                  "Sector": "Trade",
                  "Loan_Cycle": "8",
                  "Term": "6 M",
                  "Disbursed___Amount": 1000000,
                  "Interest_Rate": 0,
                  "Principal_Outstanding": 1000000,
                  "Interest_Outstanding": 0,
                  "Grace_Period": "None",
                  "Due_days": "0",
                  "Disbursed_Date": "2023-11-10",
                  "Disbursed_By": "ODONG ALEX",
                  "Approved_By": "Yahaya Ochaya",
                  "Insurance_company": "None",
                  "Sub_Sector": "Exports",
                  "GROUP___CUSTOMER_NUMBER": "<NA>",
                  "_deepnote_index_column": 0
                },
                {
                  "S_N": "7566",
                  "Branch_Code": "0",
                  "Branch_Name": "Head Office",
                  "Account_Number": 106060000000,
                  "Account_Name": "Joseph  Musajjawaza",
                  "Gender": "M",
                  "Birth_date": "1992-05-02",
                  "Product": "Staff Salary Advance",
                  "Sector": "Personal Loans and Household Loans",
                  "Loan_Cycle": "8",
                  "Term": "6 M",
                  "Disbursed___Amount": 2700000,
                  "Interest_Rate": 0,
                  "Principal_Outstanding": 2700000,
                  "Interest_Outstanding": 0,
                  "Grace_Period": "None",
                  "Due_days": "0",
                  "Disbursed_Date": "2023-11-07",
                  "Disbursed_By": "ODONG ALEX",
                  "Approved_By": "Solomon Mwesigwa",
                  "Insurance_company": "None",
                  "Sub_Sector": "Personal Loans and Household Loans",
                  "GROUP___CUSTOMER_NUMBER": "<NA>",
                  "_deepnote_index_column": 1
                },
                {
                  "S_N": "6594",
                  "Branch_Code": "0",
                  "Branch_Name": "Head Office",
                  "Account_Number": 106072000000,
                  "Account_Name": "Alex Sibendirana  Kule",
                  "Gender": "M",
                  "Birth_date": "1987-02-07",
                  "Product": "Staff Salary Advance",
                  "Sector": "Personal Loans and Household Loans",
                  "Loan_Cycle": "3",
                  "Term": "6 M",
                  "Disbursed___Amount": 4000000,
                  "Interest_Rate": 0,
                  "Principal_Outstanding": 4000000,
                  "Interest_Outstanding": 0,
                  "Grace_Period": "None",
                  "Due_days": "0",
                  "Disbursed_Date": "2023-11-06",
                  "Disbursed_By": "ODONG ALEX",
                  "Approved_By": "Henry Bukenya",
                  "Insurance_company": "None",
                  "Sub_Sector": "Personal Loans and Household Loans",
                  "GROUP___CUSTOMER_NUMBER": "<NA>",
                  "_deepnote_index_column": 2
                },
                {
                  "S_N": "1141",
                  "Branch_Code": "0",
                  "Branch_Name": "Head Office",
                  "Account_Number": 106076000000,
                  "Account_Name": "Sharifa  Nabatanzi",
                  "Gender": "F",
                  "Birth_date": "1990-03-03",
                  "Product": "Staff Salary Advance",
                  "Sector": "Personal Loans and Household Loans",
                  "Loan_Cycle": "4",
                  "Term": "6 M",
                  "Disbursed___Amount": 7500000,
                  "Interest_Rate": 0,
                  "Principal_Outstanding": 7500000,
                  "Interest_Outstanding": 0,
                  "Grace_Period": "None",
                  "Due_days": "0",
                  "Disbursed_Date": "2023-11-01",
                  "Disbursed_By": "NAMIREMBE MILLY",
                  "Approved_By": "Jimmy Kasoro",
                  "Insurance_company": "None",
                  "Sub_Sector": "Personal Loans and Household Loans",
                  "GROUP___CUSTOMER_NUMBER": "<NA>",
                  "_deepnote_index_column": 3
                },
                {
                  "S_N": "4194",
                  "Branch_Code": "0",
                  "Branch_Name": "Head Office",
                  "Account_Number": 106076000000,
                  "Account_Name": "Moses  Tusubira",
                  "Gender": "M",
                  "Birth_date": "1990-04-10",
                  "Product": "Staff Salary Advance",
                  "Sector": "Personal Loans and Household Loans",
                  "Loan_Cycle": "2",
                  "Term": "6 M",
                  "Disbursed___Amount": 3100000,
                  "Interest_Rate": 0,
                  "Principal_Outstanding": 3100000,
                  "Interest_Outstanding": 0,
                  "Grace_Period": "None",
                  "Due_days": "0",
                  "Disbursed_Date": "2023-11-10",
                  "Disbursed_By": "ODONG ALEX",
                  "Approved_By": "Yahaya Ochaya",
                  "Insurance_company": "None",
                  "Sub_Sector": "Personal Loans and Household Loans",
                  "GROUP___CUSTOMER_NUMBER": "<NA>",
                  "_deepnote_index_column": 4
                }
              ]
            },
            "text/plain": "    S_N  Branch_Code  Branch_Name  Account_Number            Account_Name  \\\n0  1895            0  Head Office    1.060520e+11     Isaac Ekwamu  Adupu   \n1  7566            0  Head Office    1.060600e+11     Joseph  Musajjawaza   \n2  6594            0  Head Office    1.060720e+11  Alex Sibendirana  Kule   \n3  1141            0  Head Office    1.060760e+11      Sharifa  Nabatanzi   \n4  4194            0  Head Office    1.060760e+11         Moses  Tusubira   \n\n  Gender  Birth_date               Product  \\\n0      M  1987-08-08  Staff Salary Advance   \n1      M  1992-05-02  Staff Salary Advance   \n2      M  1987-02-07  Staff Salary Advance   \n3      F  1990-03-03  Staff Salary Advance   \n4      M  1990-04-10  Staff Salary Advance   \n\n                               Sector  Loan_Cycle  ... Principal_Outstanding  \\\n0                               Trade           8  ...             1000000.0   \n1  Personal Loans and Household Loans           8  ...             2700000.0   \n2  Personal Loans and Household Loans           3  ...             4000000.0   \n3  Personal Loans and Household Loans           4  ...             7500000.0   \n4  Personal Loans and Household Loans           2  ...             3100000.0   \n\n   Interest_Outstanding  Grace_Period  Due_days  Disbursed_Date  \\\n0                   0.0          None         0      2023-11-10   \n1                   0.0          None         0      2023-11-07   \n2                   0.0          None         0      2023-11-06   \n3                   0.0          None         0      2023-11-01   \n4                   0.0          None         0      2023-11-10   \n\n      Disbursed_By       Approved_By Insurance_company  \\\n0       ODONG ALEX     Yahaya Ochaya              None   \n1       ODONG ALEX  Solomon Mwesigwa              None   \n2       ODONG ALEX     Henry Bukenya              None   \n3  NAMIREMBE MILLY      Jimmy Kasoro              None   \n4       ODONG ALEX     Yahaya Ochaya              None   \n\n                           Sub_Sector GROUP___CUSTOMER_NUMBER  \n0                             Exports                    <NA>  \n1  Personal Loans and Household Loans                    <NA>  \n2  Personal Loans and Household Loans                    <NA>  \n3  Personal Loans and Household Loans                    <NA>  \n4  Personal Loans and Household Loans                    <NA>  \n\n[5 rows x 23 columns]",
            "text/html": "<div>\n<style scoped>\n    .dataframe tbody tr th:only-of-type {\n        vertical-align: middle;\n    }\n\n    .dataframe tbody tr th {\n        vertical-align: top;\n    }\n\n    .dataframe thead th {\n        text-align: right;\n    }\n</style>\n<table border=\"1\" class=\"dataframe\">\n  <thead>\n    <tr style=\"text-align: right;\">\n      <th></th>\n      <th>S_N</th>\n      <th>Branch_Code</th>\n      <th>Branch_Name</th>\n      <th>Account_Number</th>\n      <th>Account_Name</th>\n      <th>Gender</th>\n      <th>Birth_date</th>\n      <th>Product</th>\n      <th>Sector</th>\n      <th>Loan_Cycle</th>\n      <th>...</th>\n      <th>Principal_Outstanding</th>\n      <th>Interest_Outstanding</th>\n      <th>Grace_Period</th>\n      <th>Due_days</th>\n      <th>Disbursed_Date</th>\n      <th>Disbursed_By</th>\n      <th>Approved_By</th>\n      <th>Insurance_company</th>\n      <th>Sub_Sector</th>\n      <th>GROUP___CUSTOMER_NUMBER</th>\n    </tr>\n  </thead>\n  <tbody>\n    <tr>\n      <th>0</th>\n      <td>1895</td>\n      <td>0</td>\n      <td>Head Office</td>\n      <td>1.060520e+11</td>\n      <td>Isaac Ekwamu  Adupu</td>\n      <td>M</td>\n      <td>1987-08-08</td>\n      <td>Staff Salary Advance</td>\n      <td>Trade</td>\n      <td>8</td>\n      <td>...</td>\n      <td>1000000.0</td>\n      <td>0.0</td>\n      <td>None</td>\n      <td>0</td>\n      <td>2023-11-10</td>\n      <td>ODONG ALEX</td>\n      <td>Yahaya Ochaya</td>\n      <td>None</td>\n      <td>Exports</td>\n      <td>&lt;NA&gt;</td>\n    </tr>\n    <tr>\n      <th>1</th>\n      <td>7566</td>\n      <td>0</td>\n      <td>Head Office</td>\n      <td>1.060600e+11</td>\n      <td>Joseph  Musajjawaza</td>\n      <td>M</td>\n      <td>1992-05-02</td>\n      <td>Staff Salary Advance</td>\n      <td>Personal Loans and Household Loans</td>\n      <td>8</td>\n      <td>...</td>\n      <td>2700000.0</td>\n      <td>0.0</td>\n      <td>None</td>\n      <td>0</td>\n      <td>2023-11-07</td>\n      <td>ODONG ALEX</td>\n      <td>Solomon Mwesigwa</td>\n      <td>None</td>\n      <td>Personal Loans and Household Loans</td>\n      <td>&lt;NA&gt;</td>\n    </tr>\n    <tr>\n      <th>2</th>\n      <td>6594</td>\n      <td>0</td>\n      <td>Head Office</td>\n      <td>1.060720e+11</td>\n      <td>Alex Sibendirana  Kule</td>\n      <td>M</td>\n      <td>1987-02-07</td>\n      <td>Staff Salary Advance</td>\n      <td>Personal Loans and Household Loans</td>\n      <td>3</td>\n      <td>...</td>\n      <td>4000000.0</td>\n      <td>0.0</td>\n      <td>None</td>\n      <td>0</td>\n      <td>2023-11-06</td>\n      <td>ODONG ALEX</td>\n      <td>Henry Bukenya</td>\n      <td>None</td>\n      <td>Personal Loans and Household Loans</td>\n      <td>&lt;NA&gt;</td>\n    </tr>\n    <tr>\n      <th>3</th>\n      <td>1141</td>\n      <td>0</td>\n      <td>Head Office</td>\n      <td>1.060760e+11</td>\n      <td>Sharifa  Nabatanzi</td>\n      <td>F</td>\n      <td>1990-03-03</td>\n      <td>Staff Salary Advance</td>\n      <td>Personal Loans and Household Loans</td>\n      <td>4</td>\n      <td>...</td>\n      <td>7500000.0</td>\n      <td>0.0</td>\n      <td>None</td>\n      <td>0</td>\n      <td>2023-11-01</td>\n      <td>NAMIREMBE MILLY</td>\n      <td>Jimmy Kasoro</td>\n      <td>None</td>\n      <td>Personal Loans and Household Loans</td>\n      <td>&lt;NA&gt;</td>\n    </tr>\n    <tr>\n      <th>4</th>\n      <td>4194</td>\n      <td>0</td>\n      <td>Head Office</td>\n      <td>1.060760e+11</td>\n      <td>Moses  Tusubira</td>\n      <td>M</td>\n      <td>1990-04-10</td>\n      <td>Staff Salary Advance</td>\n      <td>Personal Loans and Household Loans</td>\n      <td>2</td>\n      <td>...</td>\n      <td>3100000.0</td>\n      <td>0.0</td>\n      <td>None</td>\n      <td>0</td>\n      <td>2023-11-10</td>\n      <td>ODONG ALEX</td>\n      <td>Yahaya Ochaya</td>\n      <td>None</td>\n      <td>Personal Loans and Household Loans</td>\n      <td>&lt;NA&gt;</td>\n    </tr>\n  </tbody>\n</table>\n<p>5 rows × 23 columns</p>\n</div>"
          },
          "metadata": {}
        }
      ],
      "execution_count": null,
      "block_group": "e5bf3e5f07a94817bc7e8c865d19ff15"
    },
    {
      "cell_type": "code",
      "source": "#print columns\nprint(df.columns)",
      "metadata": {
        "source_hash": null,
        "execution_start": 1701073368087,
        "execution_millis": 11,
        "deepnote_app_coordinates": {
          "h": 5,
          "w": 12,
          "x": 0,
          "y": 0
        },
        "deepnote_to_be_reexecuted": false,
        "cell_id": "b99aa543d01940a39635196e75315dc1",
        "deepnote_cell_type": "code"
      },
      "outputs": [
        {
          "name": "stdout",
          "text": "Index(['S_N', 'Branch_Code', 'Branch_Name', 'Account_Number', 'Account_Name',\n       'Gender', 'Birth_date', 'Product', 'Sector', 'Loan_Cycle', 'Term',\n       'Disbursed___Amount', 'Interest_Rate', 'Principal_Outstanding',\n       'Interest_Outstanding', 'Grace_Period', 'Due_days', 'Disbursed_Date',\n       'Disbursed_By', 'Approved_By', 'Insurance_company', 'Sub_Sector',\n       'GROUP___CUSTOMER_NUMBER'],\n      dtype='object')\n",
          "output_type": "stream"
        }
      ],
      "execution_count": null,
      "block_group": "e231297981454f708c16d905b24bbc20"
    },
    {
      "cell_type": "code",
      "source": "import pandas as pd\n\n# Set pandas display options\npd.set_option('display.max_columns', None)\npd.set_option('display.max_colwidth', None)\npd.options.display.float_format = '{:,.2f}'.format\n\n# Drop unnecessary columns, while ensuring they exist first\ncolumns_to_drop = ['Branch_Code', 'Account_Number', 'Account_Name', 'S_N', 'GROUP___CUSTOMER_NUMBER']\ndf = df.drop(columns=[col for col in columns_to_drop if col in df.columns])\n\n# Convert data types\ndf = df.astype({\n    'Disbursed_Date': 'datetime64',\n    'Disbursed_By': 'string',\n    'Approved_By': 'string',\n    'Branch_Name': 'string',\n    'Insurance_company': 'string',\n    'Sub_Sector': 'string',\n    'Birth_date': 'datetime64',\n    'Due_days': 'int64',\n    'Interest_Rate': 'float64',\n    'Principal_Outstanding': 'float64',\n    'Interest_Outstanding': 'float64',\n    'Grace_Period': 'string',\n    'Loan_Cycle': 'int64',\n    'Term': 'string',\n    'Gender': 'string',\n    'Product': 'string',\n    'Sector': 'string',\n    'Disbursed___Amount': 'float64',   \n})\n\n# Display the first 10 rows of dataframe\ndf.head(10)",
      "metadata": {
        "source_hash": null,
        "execution_start": 1701073469845,
        "execution_millis": 992,
        "deepnote_table_state": {
          "sortBy": [],
          "filters": [],
          "pageSize": 10,
          "pageIndex": 0
        },
        "deepnote_table_loading": false,
        "deepnote_app_coordinates": {
          "h": 5,
          "w": 12,
          "x": 0,
          "y": 0
        },
        "deepnote_to_be_reexecuted": false,
        "cell_id": "31c84281e42f4579aaccf5d9617a62c0",
        "deepnote_cell_type": "code"
      },
      "outputs": [
        {
          "output_type": "execute_result",
          "execution_count": 14,
          "data": {
            "application/vnd.deepnote.dataframe.v3+json": {
              "column_count": 18,
              "row_count": 10,
              "columns": [
                {
                  "name": "Branch_Name",
                  "dtype": "string",
                  "stats": {
                    "unique_count": 1,
                    "nan_count": 0,
                    "categories": [
                      {
                        "name": "Head Office",
                        "count": 10
                      }
                    ]
                  }
                },
                {
                  "name": "Gender",
                  "dtype": "string",
                  "stats": {
                    "unique_count": 2,
                    "nan_count": 0,
                    "categories": [
                      {
                        "name": "M",
                        "count": 7
                      },
                      {
                        "name": "F",
                        "count": 3
                      }
                    ]
                  }
                },
                {
                  "name": "Birth_date",
                  "dtype": "datetime64[ns]",
                  "stats": {
                    "unique_count": 10,
                    "nan_count": 0,
                    "min": "1969-11-02 00:00:00",
                    "max": "1995-03-27 00:00:00",
                    "histogram": [
                      {
                        "bin_start": -5184000000000000,
                        "bin_end": 74960640000000000,
                        "count": 1
                      },
                      {
                        "bin_start": 74960640000000000,
                        "bin_end": 155105280000000000,
                        "count": 0
                      },
                      {
                        "bin_start": 155105280000000000,
                        "bin_end": 235249920000000000,
                        "count": 0
                      },
                      {
                        "bin_start": 235249920000000000,
                        "bin_end": 315394560000000000,
                        "count": 0
                      },
                      {
                        "bin_start": 315394560000000000,
                        "bin_end": 395539200000000000,
                        "count": 0
                      },
                      {
                        "bin_start": 395539200000000000,
                        "bin_end": 475683840000000000,
                        "count": 1
                      },
                      {
                        "bin_start": 475683840000000000,
                        "bin_end": 555828480000000000,
                        "count": 4
                      },
                      {
                        "bin_start": 555828480000000000,
                        "bin_end": 635973120000000000,
                        "count": 0
                      },
                      {
                        "bin_start": 635973120000000000,
                        "bin_end": 716117760000000000,
                        "count": 3
                      },
                      {
                        "bin_start": 716117760000000000,
                        "bin_end": 796262400000000000,
                        "count": 1
                      }
                    ]
                  }
                },
                {
                  "name": "Product",
                  "dtype": "string",
                  "stats": {
                    "unique_count": 1,
                    "nan_count": 0,
                    "categories": [
                      {
                        "name": "Staff Salary Advance",
                        "count": 10
                      }
                    ]
                  }
                },
                {
                  "name": "Sector",
                  "dtype": "string",
                  "stats": {
                    "unique_count": 2,
                    "nan_count": 0,
                    "categories": [
                      {
                        "name": "Personal Loans and Household Loans",
                        "count": 9
                      },
                      {
                        "name": "Trade",
                        "count": 1
                      }
                    ]
                  }
                },
                {
                  "name": "Loan_Cycle",
                  "dtype": "int64",
                  "stats": {
                    "unique_count": 8,
                    "nan_count": 0,
                    "min": "1",
                    "max": "16",
                    "histogram": [
                      {
                        "bin_start": 1,
                        "bin_end": 2.5,
                        "count": 3
                      },
                      {
                        "bin_start": 2.5,
                        "bin_end": 4,
                        "count": 1
                      },
                      {
                        "bin_start": 4,
                        "bin_end": 5.5,
                        "count": 1
                      },
                      {
                        "bin_start": 5.5,
                        "bin_end": 7,
                        "count": 0
                      },
                      {
                        "bin_start": 7,
                        "bin_end": 8.5,
                        "count": 2
                      },
                      {
                        "bin_start": 8.5,
                        "bin_end": 10,
                        "count": 1
                      },
                      {
                        "bin_start": 10,
                        "bin_end": 11.5,
                        "count": 1
                      },
                      {
                        "bin_start": 11.5,
                        "bin_end": 13,
                        "count": 0
                      },
                      {
                        "bin_start": 13,
                        "bin_end": 14.5,
                        "count": 0
                      },
                      {
                        "bin_start": 14.5,
                        "bin_end": 16,
                        "count": 1
                      }
                    ]
                  }
                },
                {
                  "name": "Term",
                  "dtype": "string",
                  "stats": {
                    "unique_count": 2,
                    "nan_count": 0,
                    "categories": [
                      {
                        "name": "6 M",
                        "count": 9
                      },
                      {
                        "name": "5 M",
                        "count": 1
                      }
                    ]
                  }
                },
                {
                  "name": "Disbursed___Amount",
                  "dtype": "float64",
                  "stats": {
                    "unique_count": 10,
                    "nan_count": 0,
                    "min": "1000000.0",
                    "max": "10200000.0",
                    "histogram": [
                      {
                        "bin_start": 1000000,
                        "bin_end": 1920000,
                        "count": 2
                      },
                      {
                        "bin_start": 1920000,
                        "bin_end": 2840000,
                        "count": 2
                      },
                      {
                        "bin_start": 2840000,
                        "bin_end": 3760000,
                        "count": 1
                      },
                      {
                        "bin_start": 3760000,
                        "bin_end": 4680000,
                        "count": 1
                      },
                      {
                        "bin_start": 4680000,
                        "bin_end": 5600000,
                        "count": 0
                      },
                      {
                        "bin_start": 5600000,
                        "bin_end": 6520000,
                        "count": 1
                      },
                      {
                        "bin_start": 6520000,
                        "bin_end": 7440000,
                        "count": 0
                      },
                      {
                        "bin_start": 7440000,
                        "bin_end": 8360000,
                        "count": 1
                      },
                      {
                        "bin_start": 8360000,
                        "bin_end": 9280000,
                        "count": 0
                      },
                      {
                        "bin_start": 9280000,
                        "bin_end": 10200000,
                        "count": 2
                      }
                    ]
                  }
                },
                {
                  "name": "Interest_Rate",
                  "dtype": "float64",
                  "stats": {
                    "unique_count": 1,
                    "nan_count": 0,
                    "min": "0.0",
                    "max": "0.0",
                    "histogram": [
                      {
                        "bin_start": -0.5,
                        "bin_end": -0.4,
                        "count": 0
                      },
                      {
                        "bin_start": -0.4,
                        "bin_end": -0.3,
                        "count": 0
                      },
                      {
                        "bin_start": -0.3,
                        "bin_end": -0.19999999999999996,
                        "count": 0
                      },
                      {
                        "bin_start": -0.19999999999999996,
                        "bin_end": -0.09999999999999998,
                        "count": 0
                      },
                      {
                        "bin_start": -0.09999999999999998,
                        "bin_end": 0,
                        "count": 0
                      },
                      {
                        "bin_start": 0,
                        "bin_end": 0.10000000000000009,
                        "count": 10
                      },
                      {
                        "bin_start": 0.10000000000000009,
                        "bin_end": 0.20000000000000007,
                        "count": 0
                      },
                      {
                        "bin_start": 0.20000000000000007,
                        "bin_end": 0.30000000000000004,
                        "count": 0
                      },
                      {
                        "bin_start": 0.30000000000000004,
                        "bin_end": 0.4,
                        "count": 0
                      },
                      {
                        "bin_start": 0.4,
                        "bin_end": 0.5,
                        "count": 0
                      }
                    ]
                  }
                },
                {
                  "name": "Principal_Outstanding",
                  "dtype": "float64",
                  "stats": {
                    "unique_count": 10,
                    "nan_count": 0,
                    "min": "1000000.0",
                    "max": "10200000.0",
                    "histogram": [
                      {
                        "bin_start": 1000000,
                        "bin_end": 1920000,
                        "count": 2
                      },
                      {
                        "bin_start": 1920000,
                        "bin_end": 2840000,
                        "count": 2
                      },
                      {
                        "bin_start": 2840000,
                        "bin_end": 3760000,
                        "count": 1
                      },
                      {
                        "bin_start": 3760000,
                        "bin_end": 4680000,
                        "count": 1
                      },
                      {
                        "bin_start": 4680000,
                        "bin_end": 5600000,
                        "count": 0
                      },
                      {
                        "bin_start": 5600000,
                        "bin_end": 6520000,
                        "count": 1
                      },
                      {
                        "bin_start": 6520000,
                        "bin_end": 7440000,
                        "count": 0
                      },
                      {
                        "bin_start": 7440000,
                        "bin_end": 8360000,
                        "count": 1
                      },
                      {
                        "bin_start": 8360000,
                        "bin_end": 9280000,
                        "count": 0
                      },
                      {
                        "bin_start": 9280000,
                        "bin_end": 10200000,
                        "count": 2
                      }
                    ]
                  }
                },
                {
                  "name": "Interest_Outstanding",
                  "dtype": "float64",
                  "stats": {
                    "unique_count": 1,
                    "nan_count": 0,
                    "min": "0.0",
                    "max": "0.0",
                    "histogram": [
                      {
                        "bin_start": -0.5,
                        "bin_end": -0.4,
                        "count": 0
                      },
                      {
                        "bin_start": -0.4,
                        "bin_end": -0.3,
                        "count": 0
                      },
                      {
                        "bin_start": -0.3,
                        "bin_end": -0.19999999999999996,
                        "count": 0
                      },
                      {
                        "bin_start": -0.19999999999999996,
                        "bin_end": -0.09999999999999998,
                        "count": 0
                      },
                      {
                        "bin_start": -0.09999999999999998,
                        "bin_end": 0,
                        "count": 0
                      },
                      {
                        "bin_start": 0,
                        "bin_end": 0.10000000000000009,
                        "count": 10
                      },
                      {
                        "bin_start": 0.10000000000000009,
                        "bin_end": 0.20000000000000007,
                        "count": 0
                      },
                      {
                        "bin_start": 0.20000000000000007,
                        "bin_end": 0.30000000000000004,
                        "count": 0
                      },
                      {
                        "bin_start": 0.30000000000000004,
                        "bin_end": 0.4,
                        "count": 0
                      },
                      {
                        "bin_start": 0.4,
                        "bin_end": 0.5,
                        "count": 0
                      }
                    ]
                  }
                },
                {
                  "name": "Grace_Period",
                  "dtype": "string",
                  "stats": {
                    "unique_count": 0,
                    "nan_count": 10,
                    "categories": [
                      {
                        "name": "Missing",
                        "count": 10
                      }
                    ]
                  }
                },
                {
                  "name": "Due_days",
                  "dtype": "int64",
                  "stats": {
                    "unique_count": 1,
                    "nan_count": 0,
                    "min": "0",
                    "max": "0",
                    "histogram": [
                      {
                        "bin_start": -0.5,
                        "bin_end": -0.4,
                        "count": 0
                      },
                      {
                        "bin_start": -0.4,
                        "bin_end": -0.3,
                        "count": 0
                      },
                      {
                        "bin_start": -0.3,
                        "bin_end": -0.19999999999999996,
                        "count": 0
                      },
                      {
                        "bin_start": -0.19999999999999996,
                        "bin_end": -0.09999999999999998,
                        "count": 0
                      },
                      {
                        "bin_start": -0.09999999999999998,
                        "bin_end": 0,
                        "count": 0
                      },
                      {
                        "bin_start": 0,
                        "bin_end": 0.10000000000000009,
                        "count": 10
                      },
                      {
                        "bin_start": 0.10000000000000009,
                        "bin_end": 0.20000000000000007,
                        "count": 0
                      },
                      {
                        "bin_start": 0.20000000000000007,
                        "bin_end": 0.30000000000000004,
                        "count": 0
                      },
                      {
                        "bin_start": 0.30000000000000004,
                        "bin_end": 0.4,
                        "count": 0
                      },
                      {
                        "bin_start": 0.4,
                        "bin_end": 0.5,
                        "count": 0
                      }
                    ]
                  }
                },
                {
                  "name": "Disbursed_Date",
                  "dtype": "datetime64[ns]",
                  "stats": {
                    "unique_count": 6,
                    "nan_count": 0,
                    "min": "2023-11-01 00:00:00",
                    "max": "2023-11-10 00:00:00",
                    "histogram": [
                      {
                        "bin_start": 1698796800000000000,
                        "bin_end": 1698874560000000000,
                        "count": 1
                      },
                      {
                        "bin_start": 1698874560000000000,
                        "bin_end": 1698952320000000000,
                        "count": 0
                      },
                      {
                        "bin_start": 1698952320000000000,
                        "bin_end": 1699030080000000000,
                        "count": 2
                      },
                      {
                        "bin_start": 1699030080000000000,
                        "bin_end": 1699107840000000000,
                        "count": 0
                      },
                      {
                        "bin_start": 1699107840000000000,
                        "bin_end": 1699185600000000000,
                        "count": 0
                      },
                      {
                        "bin_start": 1699185600000000000,
                        "bin_end": 1699263360000000000,
                        "count": 1
                      },
                      {
                        "bin_start": 1699263360000000000,
                        "bin_end": 1699341120000000000,
                        "count": 3
                      },
                      {
                        "bin_start": 1699341120000000000,
                        "bin_end": 1699418880000000000,
                        "count": 1
                      },
                      {
                        "bin_start": 1699418880000000000,
                        "bin_end": 1699496640000000000,
                        "count": 0
                      },
                      {
                        "bin_start": 1699496640000000000,
                        "bin_end": 1699574400000000000,
                        "count": 2
                      }
                    ]
                  }
                },
                {
                  "name": "Disbursed_By",
                  "dtype": "string",
                  "stats": {
                    "unique_count": 2,
                    "nan_count": 0,
                    "categories": [
                      {
                        "name": "ODONG ALEX",
                        "count": 9
                      },
                      {
                        "name": "NAMIREMBE MILLY",
                        "count": 1
                      }
                    ]
                  }
                },
                {
                  "name": "Approved_By",
                  "dtype": "string",
                  "stats": {
                    "unique_count": 4,
                    "nan_count": 0,
                    "categories": [
                      {
                        "name": "Yahaya Ochaya",
                        "count": 3
                      },
                      {
                        "name": "Solomon Mwesigwa",
                        "count": 3
                      },
                      {
                        "name": "2 others",
                        "count": 4
                      }
                    ]
                  }
                },
                {
                  "name": "Insurance_company",
                  "dtype": "string",
                  "stats": {
                    "unique_count": 0,
                    "nan_count": 10,
                    "categories": [
                      {
                        "name": "Missing",
                        "count": 10
                      }
                    ]
                  }
                },
                {
                  "name": "Sub_Sector",
                  "dtype": "string",
                  "stats": {
                    "unique_count": 2,
                    "nan_count": 0,
                    "categories": [
                      {
                        "name": "Personal Loans and Household Loans",
                        "count": 9
                      },
                      {
                        "name": "Exports",
                        "count": 1
                      }
                    ]
                  }
                },
                {
                  "name": "_deepnote_index_column",
                  "dtype": "int64"
                }
              ],
              "rows": [
                {
                  "Branch_Name": "Head Office",
                  "Gender": "M",
                  "Birth_date": "1987-08-08 00:00:00",
                  "Product": "Staff Salary Advance",
                  "Sector": "Trade",
                  "Loan_Cycle": 8,
                  "Term": "6 M",
                  "Disbursed___Amount": 1000000,
                  "Interest_Rate": 0,
                  "Principal_Outstanding": 1000000,
                  "Interest_Outstanding": 0,
                  "Grace_Period": "<NA>",
                  "Due_days": 0,
                  "Disbursed_Date": "2023-11-10 00:00:00",
                  "Disbursed_By": "ODONG ALEX",
                  "Approved_By": "Yahaya Ochaya",
                  "Insurance_company": "<NA>",
                  "Sub_Sector": "Exports",
                  "_deepnote_index_column": 0
                },
                {
                  "Branch_Name": "Head Office",
                  "Gender": "M",
                  "Birth_date": "1992-05-02 00:00:00",
                  "Product": "Staff Salary Advance",
                  "Sector": "Personal Loans and Household Loans",
                  "Loan_Cycle": 8,
                  "Term": "6 M",
                  "Disbursed___Amount": 2700000,
                  "Interest_Rate": 0,
                  "Principal_Outstanding": 2700000,
                  "Interest_Outstanding": 0,
                  "Grace_Period": "<NA>",
                  "Due_days": 0,
                  "Disbursed_Date": "2023-11-07 00:00:00",
                  "Disbursed_By": "ODONG ALEX",
                  "Approved_By": "Solomon Mwesigwa",
                  "Insurance_company": "<NA>",
                  "Sub_Sector": "Personal Loans and Household Loans",
                  "_deepnote_index_column": 1
                },
                {
                  "Branch_Name": "Head Office",
                  "Gender": "M",
                  "Birth_date": "1987-02-07 00:00:00",
                  "Product": "Staff Salary Advance",
                  "Sector": "Personal Loans and Household Loans",
                  "Loan_Cycle": 3,
                  "Term": "6 M",
                  "Disbursed___Amount": 4000000,
                  "Interest_Rate": 0,
                  "Principal_Outstanding": 4000000,
                  "Interest_Outstanding": 0,
                  "Grace_Period": "<NA>",
                  "Due_days": 0,
                  "Disbursed_Date": "2023-11-06 00:00:00",
                  "Disbursed_By": "ODONG ALEX",
                  "Approved_By": "Henry Bukenya",
                  "Insurance_company": "<NA>",
                  "Sub_Sector": "Personal Loans and Household Loans",
                  "_deepnote_index_column": 2
                },
                {
                  "Branch_Name": "Head Office",
                  "Gender": "F",
                  "Birth_date": "1990-03-03 00:00:00",
                  "Product": "Staff Salary Advance",
                  "Sector": "Personal Loans and Household Loans",
                  "Loan_Cycle": 4,
                  "Term": "6 M",
                  "Disbursed___Amount": 7500000,
                  "Interest_Rate": 0,
                  "Principal_Outstanding": 7500000,
                  "Interest_Outstanding": 0,
                  "Grace_Period": "<NA>",
                  "Due_days": 0,
                  "Disbursed_Date": "2023-11-01 00:00:00",
                  "Disbursed_By": "NAMIREMBE MILLY",
                  "Approved_By": "Jimmy Kasoro",
                  "Insurance_company": "<NA>",
                  "Sub_Sector": "Personal Loans and Household Loans",
                  "_deepnote_index_column": 3
                },
                {
                  "Branch_Name": "Head Office",
                  "Gender": "M",
                  "Birth_date": "1990-04-10 00:00:00",
                  "Product": "Staff Salary Advance",
                  "Sector": "Personal Loans and Household Loans",
                  "Loan_Cycle": 2,
                  "Term": "6 M",
                  "Disbursed___Amount": 3100000,
                  "Interest_Rate": 0,
                  "Principal_Outstanding": 3100000,
                  "Interest_Outstanding": 0,
                  "Grace_Period": "<NA>",
                  "Due_days": 0,
                  "Disbursed_Date": "2023-11-10 00:00:00",
                  "Disbursed_By": "ODONG ALEX",
                  "Approved_By": "Yahaya Ochaya",
                  "Insurance_company": "<NA>",
                  "Sub_Sector": "Personal Loans and Household Loans",
                  "_deepnote_index_column": 4
                },
                {
                  "Branch_Name": "Head Office",
                  "Gender": "M",
                  "Birth_date": "1986-12-10 00:00:00",
                  "Product": "Staff Salary Advance",
                  "Sector": "Personal Loans and Household Loans",
                  "Loan_Cycle": 2,
                  "Term": "5 M",
                  "Disbursed___Amount": 6000000,
                  "Interest_Rate": 0,
                  "Principal_Outstanding": 6000000,
                  "Interest_Outstanding": 0,
                  "Grace_Period": "<NA>",
                  "Due_days": 0,
                  "Disbursed_Date": "2023-11-07 00:00:00",
                  "Disbursed_By": "ODONG ALEX",
                  "Approved_By": "Yahaya Ochaya",
                  "Insurance_company": "<NA>",
                  "Sub_Sector": "Personal Loans and Household Loans",
                  "_deepnote_index_column": 5
                },
                {
                  "Branch_Name": "Head Office",
                  "Gender": "M",
                  "Birth_date": "1995-03-27 00:00:00",
                  "Product": "Staff Salary Advance",
                  "Sector": "Personal Loans and Household Loans",
                  "Loan_Cycle": 1,
                  "Term": "6 M",
                  "Disbursed___Amount": 2500000,
                  "Interest_Rate": 0,
                  "Principal_Outstanding": 2500000,
                  "Interest_Outstanding": 0,
                  "Grace_Period": "<NA>",
                  "Due_days": 0,
                  "Disbursed_Date": "2023-11-07 00:00:00",
                  "Disbursed_By": "ODONG ALEX",
                  "Approved_By": "Solomon Mwesigwa",
                  "Insurance_company": "<NA>",
                  "Sub_Sector": "Personal Loans and Household Loans",
                  "_deepnote_index_column": 6
                },
                {
                  "Branch_Name": "Head Office",
                  "Gender": "F",
                  "Birth_date": "1985-01-16 00:00:00",
                  "Product": "Staff Salary Advance",
                  "Sector": "Personal Loans and Household Loans",
                  "Loan_Cycle": 10,
                  "Term": "6 M",
                  "Disbursed___Amount": 1800000,
                  "Interest_Rate": 0,
                  "Principal_Outstanding": 1800000,
                  "Interest_Outstanding": 0,
                  "Grace_Period": "<NA>",
                  "Due_days": 0,
                  "Disbursed_Date": "2023-11-03 00:00:00",
                  "Disbursed_By": "ODONG ALEX",
                  "Approved_By": "Jimmy Kasoro",
                  "Insurance_company": "<NA>",
                  "Sub_Sector": "Personal Loans and Household Loans",
                  "_deepnote_index_column": 7
                },
                {
                  "Branch_Name": "Head Office",
                  "Gender": "F",
                  "Birth_date": "1987-01-10 00:00:00",
                  "Product": "Staff Salary Advance",
                  "Sector": "Personal Loans and Household Loans",
                  "Loan_Cycle": 16,
                  "Term": "6 M",
                  "Disbursed___Amount": 9900000,
                  "Interest_Rate": 0,
                  "Principal_Outstanding": 9900000,
                  "Interest_Outstanding": 0,
                  "Grace_Period": "<NA>",
                  "Due_days": 0,
                  "Disbursed_Date": "2023-11-08 00:00:00",
                  "Disbursed_By": "ODONG ALEX",
                  "Approved_By": "Solomon Mwesigwa",
                  "Insurance_company": "<NA>",
                  "Sub_Sector": "Personal Loans and Household Loans",
                  "_deepnote_index_column": 8
                },
                {
                  "Branch_Name": "Head Office",
                  "Gender": "M",
                  "Birth_date": "1969-11-02 00:00:00",
                  "Product": "Staff Salary Advance",
                  "Sector": "Personal Loans and Household Loans",
                  "Loan_Cycle": 9,
                  "Term": "6 M",
                  "Disbursed___Amount": 10200000,
                  "Interest_Rate": 0,
                  "Principal_Outstanding": 10200000,
                  "Interest_Outstanding": 0,
                  "Grace_Period": "<NA>",
                  "Due_days": 0,
                  "Disbursed_Date": "2023-11-03 00:00:00",
                  "Disbursed_By": "ODONG ALEX",
                  "Approved_By": "Jimmy Kasoro",
                  "Insurance_company": "<NA>",
                  "Sub_Sector": "Personal Loans and Household Loans",
                  "_deepnote_index_column": 9
                }
              ]
            },
            "text/plain": "   Branch_Name Gender Birth_date               Product  \\\n0  Head Office      M 1987-08-08  Staff Salary Advance   \n1  Head Office      M 1992-05-02  Staff Salary Advance   \n2  Head Office      M 1987-02-07  Staff Salary Advance   \n3  Head Office      F 1990-03-03  Staff Salary Advance   \n4  Head Office      M 1990-04-10  Staff Salary Advance   \n5  Head Office      M 1986-12-10  Staff Salary Advance   \n6  Head Office      M 1995-03-27  Staff Salary Advance   \n7  Head Office      F 1985-01-16  Staff Salary Advance   \n8  Head Office      F 1987-01-10  Staff Salary Advance   \n9  Head Office      M 1969-11-02  Staff Salary Advance   \n\n                               Sector  Loan_Cycle Term  Disbursed___Amount  \\\n0                               Trade           8  6 M        1,000,000.00   \n1  Personal Loans and Household Loans           8  6 M        2,700,000.00   \n2  Personal Loans and Household Loans           3  6 M        4,000,000.00   \n3  Personal Loans and Household Loans           4  6 M        7,500,000.00   \n4  Personal Loans and Household Loans           2  6 M        3,100,000.00   \n5  Personal Loans and Household Loans           2  5 M        6,000,000.00   \n6  Personal Loans and Household Loans           1  6 M        2,500,000.00   \n7  Personal Loans and Household Loans          10  6 M        1,800,000.00   \n8  Personal Loans and Household Loans          16  6 M        9,900,000.00   \n9  Personal Loans and Household Loans           9  6 M       10,200,000.00   \n\n   Interest_Rate  Principal_Outstanding  Interest_Outstanding Grace_Period  \\\n0           0.00           1,000,000.00                  0.00         <NA>   \n1           0.00           2,700,000.00                  0.00         <NA>   \n2           0.00           4,000,000.00                  0.00         <NA>   \n3           0.00           7,500,000.00                  0.00         <NA>   \n4           0.00           3,100,000.00                  0.00         <NA>   \n5           0.00           6,000,000.00                  0.00         <NA>   \n6           0.00           2,500,000.00                  0.00         <NA>   \n7           0.00           1,800,000.00                  0.00         <NA>   \n8           0.00           9,900,000.00                  0.00         <NA>   \n9           0.00          10,200,000.00                  0.00         <NA>   \n\n   Due_days Disbursed_Date     Disbursed_By       Approved_By  \\\n0         0     2023-11-10       ODONG ALEX     Yahaya Ochaya   \n1         0     2023-11-07       ODONG ALEX  Solomon Mwesigwa   \n2         0     2023-11-06       ODONG ALEX     Henry Bukenya   \n3         0     2023-11-01  NAMIREMBE MILLY      Jimmy Kasoro   \n4         0     2023-11-10       ODONG ALEX     Yahaya Ochaya   \n5         0     2023-11-07       ODONG ALEX     Yahaya Ochaya   \n6         0     2023-11-07       ODONG ALEX  Solomon Mwesigwa   \n7         0     2023-11-03       ODONG ALEX      Jimmy Kasoro   \n8         0     2023-11-08       ODONG ALEX  Solomon Mwesigwa   \n9         0     2023-11-03       ODONG ALEX      Jimmy Kasoro   \n\n  Insurance_company                          Sub_Sector  \n0              <NA>                             Exports  \n1              <NA>  Personal Loans and Household Loans  \n2              <NA>  Personal Loans and Household Loans  \n3              <NA>  Personal Loans and Household Loans  \n4              <NA>  Personal Loans and Household Loans  \n5              <NA>  Personal Loans and Household Loans  \n6              <NA>  Personal Loans and Household Loans  \n7              <NA>  Personal Loans and Household Loans  \n8              <NA>  Personal Loans and Household Loans  \n9              <NA>  Personal Loans and Household Loans  ",
            "text/html": "<div>\n<style scoped>\n    .dataframe tbody tr th:only-of-type {\n        vertical-align: middle;\n    }\n\n    .dataframe tbody tr th {\n        vertical-align: top;\n    }\n\n    .dataframe thead th {\n        text-align: right;\n    }\n</style>\n<table border=\"1\" class=\"dataframe\">\n  <thead>\n    <tr style=\"text-align: right;\">\n      <th></th>\n      <th>Branch_Name</th>\n      <th>Gender</th>\n      <th>Birth_date</th>\n      <th>Product</th>\n      <th>Sector</th>\n      <th>Loan_Cycle</th>\n      <th>Term</th>\n      <th>Disbursed___Amount</th>\n      <th>Interest_Rate</th>\n      <th>Principal_Outstanding</th>\n      <th>Interest_Outstanding</th>\n      <th>Grace_Period</th>\n      <th>Due_days</th>\n      <th>Disbursed_Date</th>\n      <th>Disbursed_By</th>\n      <th>Approved_By</th>\n      <th>Insurance_company</th>\n      <th>Sub_Sector</th>\n    </tr>\n  </thead>\n  <tbody>\n    <tr>\n      <th>0</th>\n      <td>Head Office</td>\n      <td>M</td>\n      <td>1987-08-08</td>\n      <td>Staff Salary Advance</td>\n      <td>Trade</td>\n      <td>8</td>\n      <td>6 M</td>\n      <td>1,000,000.00</td>\n      <td>0.00</td>\n      <td>1,000,000.00</td>\n      <td>0.00</td>\n      <td>&lt;NA&gt;</td>\n      <td>0</td>\n      <td>2023-11-10</td>\n      <td>ODONG ALEX</td>\n      <td>Yahaya Ochaya</td>\n      <td>&lt;NA&gt;</td>\n      <td>Exports</td>\n    </tr>\n    <tr>\n      <th>1</th>\n      <td>Head Office</td>\n      <td>M</td>\n      <td>1992-05-02</td>\n      <td>Staff Salary Advance</td>\n      <td>Personal Loans and Household Loans</td>\n      <td>8</td>\n      <td>6 M</td>\n      <td>2,700,000.00</td>\n      <td>0.00</td>\n      <td>2,700,000.00</td>\n      <td>0.00</td>\n      <td>&lt;NA&gt;</td>\n      <td>0</td>\n      <td>2023-11-07</td>\n      <td>ODONG ALEX</td>\n      <td>Solomon Mwesigwa</td>\n      <td>&lt;NA&gt;</td>\n      <td>Personal Loans and Household Loans</td>\n    </tr>\n    <tr>\n      <th>2</th>\n      <td>Head Office</td>\n      <td>M</td>\n      <td>1987-02-07</td>\n      <td>Staff Salary Advance</td>\n      <td>Personal Loans and Household Loans</td>\n      <td>3</td>\n      <td>6 M</td>\n      <td>4,000,000.00</td>\n      <td>0.00</td>\n      <td>4,000,000.00</td>\n      <td>0.00</td>\n      <td>&lt;NA&gt;</td>\n      <td>0</td>\n      <td>2023-11-06</td>\n      <td>ODONG ALEX</td>\n      <td>Henry Bukenya</td>\n      <td>&lt;NA&gt;</td>\n      <td>Personal Loans and Household Loans</td>\n    </tr>\n    <tr>\n      <th>3</th>\n      <td>Head Office</td>\n      <td>F</td>\n      <td>1990-03-03</td>\n      <td>Staff Salary Advance</td>\n      <td>Personal Loans and Household Loans</td>\n      <td>4</td>\n      <td>6 M</td>\n      <td>7,500,000.00</td>\n      <td>0.00</td>\n      <td>7,500,000.00</td>\n      <td>0.00</td>\n      <td>&lt;NA&gt;</td>\n      <td>0</td>\n      <td>2023-11-01</td>\n      <td>NAMIREMBE MILLY</td>\n      <td>Jimmy Kasoro</td>\n      <td>&lt;NA&gt;</td>\n      <td>Personal Loans and Household Loans</td>\n    </tr>\n    <tr>\n      <th>4</th>\n      <td>Head Office</td>\n      <td>M</td>\n      <td>1990-04-10</td>\n      <td>Staff Salary Advance</td>\n      <td>Personal Loans and Household Loans</td>\n      <td>2</td>\n      <td>6 M</td>\n      <td>3,100,000.00</td>\n      <td>0.00</td>\n      <td>3,100,000.00</td>\n      <td>0.00</td>\n      <td>&lt;NA&gt;</td>\n      <td>0</td>\n      <td>2023-11-10</td>\n      <td>ODONG ALEX</td>\n      <td>Yahaya Ochaya</td>\n      <td>&lt;NA&gt;</td>\n      <td>Personal Loans and Household Loans</td>\n    </tr>\n    <tr>\n      <th>5</th>\n      <td>Head Office</td>\n      <td>M</td>\n      <td>1986-12-10</td>\n      <td>Staff Salary Advance</td>\n      <td>Personal Loans and Household Loans</td>\n      <td>2</td>\n      <td>5 M</td>\n      <td>6,000,000.00</td>\n      <td>0.00</td>\n      <td>6,000,000.00</td>\n      <td>0.00</td>\n      <td>&lt;NA&gt;</td>\n      <td>0</td>\n      <td>2023-11-07</td>\n      <td>ODONG ALEX</td>\n      <td>Yahaya Ochaya</td>\n      <td>&lt;NA&gt;</td>\n      <td>Personal Loans and Household Loans</td>\n    </tr>\n    <tr>\n      <th>6</th>\n      <td>Head Office</td>\n      <td>M</td>\n      <td>1995-03-27</td>\n      <td>Staff Salary Advance</td>\n      <td>Personal Loans and Household Loans</td>\n      <td>1</td>\n      <td>6 M</td>\n      <td>2,500,000.00</td>\n      <td>0.00</td>\n      <td>2,500,000.00</td>\n      <td>0.00</td>\n      <td>&lt;NA&gt;</td>\n      <td>0</td>\n      <td>2023-11-07</td>\n      <td>ODONG ALEX</td>\n      <td>Solomon Mwesigwa</td>\n      <td>&lt;NA&gt;</td>\n      <td>Personal Loans and Household Loans</td>\n    </tr>\n    <tr>\n      <th>7</th>\n      <td>Head Office</td>\n      <td>F</td>\n      <td>1985-01-16</td>\n      <td>Staff Salary Advance</td>\n      <td>Personal Loans and Household Loans</td>\n      <td>10</td>\n      <td>6 M</td>\n      <td>1,800,000.00</td>\n      <td>0.00</td>\n      <td>1,800,000.00</td>\n      <td>0.00</td>\n      <td>&lt;NA&gt;</td>\n      <td>0</td>\n      <td>2023-11-03</td>\n      <td>ODONG ALEX</td>\n      <td>Jimmy Kasoro</td>\n      <td>&lt;NA&gt;</td>\n      <td>Personal Loans and Household Loans</td>\n    </tr>\n    <tr>\n      <th>8</th>\n      <td>Head Office</td>\n      <td>F</td>\n      <td>1987-01-10</td>\n      <td>Staff Salary Advance</td>\n      <td>Personal Loans and Household Loans</td>\n      <td>16</td>\n      <td>6 M</td>\n      <td>9,900,000.00</td>\n      <td>0.00</td>\n      <td>9,900,000.00</td>\n      <td>0.00</td>\n      <td>&lt;NA&gt;</td>\n      <td>0</td>\n      <td>2023-11-08</td>\n      <td>ODONG ALEX</td>\n      <td>Solomon Mwesigwa</td>\n      <td>&lt;NA&gt;</td>\n      <td>Personal Loans and Household Loans</td>\n    </tr>\n    <tr>\n      <th>9</th>\n      <td>Head Office</td>\n      <td>M</td>\n      <td>1969-11-02</td>\n      <td>Staff Salary Advance</td>\n      <td>Personal Loans and Household Loans</td>\n      <td>9</td>\n      <td>6 M</td>\n      <td>10,200,000.00</td>\n      <td>0.00</td>\n      <td>10,200,000.00</td>\n      <td>0.00</td>\n      <td>&lt;NA&gt;</td>\n      <td>0</td>\n      <td>2023-11-03</td>\n      <td>ODONG ALEX</td>\n      <td>Jimmy Kasoro</td>\n      <td>&lt;NA&gt;</td>\n      <td>Personal Loans and Household Loans</td>\n    </tr>\n  </tbody>\n</table>\n</div>"
          },
          "metadata": {}
        }
      ],
      "execution_count": null,
      "block_group": "28d81399509b4954bfe4614050e1eaaf"
    },
    {
      "cell_type": "code",
      "source": "",
      "metadata": {
        "deepnote_app_coordinates": {
          "h": 5,
          "w": 12,
          "x": 0,
          "y": 0
        },
        "cell_id": "c587cd5d2d9445aeb46db2adea5ef4b9",
        "deepnote_cell_type": "code"
      },
      "outputs": [],
      "execution_count": null,
      "block_group": "6bcf01da8e6c4cfdb51139ca38b11803"
    },
    {
      "cell_type": "markdown",
      "source": "<a style='text-decoration:none;line-height:16px;display:flex;color:#5B5B62;padding:10px;justify-content:end;' href='https://deepnote.com?utm_source=created-in-deepnote-cell&projectId=34c99b87-7747-401d-b203-ddc5eb2646f3' target=\"_blank\">\n<img alt='Created in deepnote.com' style='display:inline;max-height:16px;margin:0px;margin-right:7.5px;' src='data:image/svg+xml;base64,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' > </img>\nCreated in <span style='font-weight:600;margin-left:4px;'>Deepnote</span></a>",
      "metadata": {
        "created_in_deepnote_cell": true,
        "deepnote_cell_type": "markdown"
      }
    }
  ],
  "nbformat": 4,
  "nbformat_minor": 0,
  "metadata": {
    "deepnote": {},
    "orig_nbformat": 2,
    "deepnote_full_width": true,
    "deepnote_notebook_id": "c329fe40572a43148ade2e980fbcd92c",
    "deepnote_execution_queue": []
  }
}