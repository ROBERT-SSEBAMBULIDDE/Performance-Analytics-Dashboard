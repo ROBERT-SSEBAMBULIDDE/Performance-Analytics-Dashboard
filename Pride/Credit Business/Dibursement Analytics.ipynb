{
  "cells": [
    {
      "cell_type": "markdown",
      "source": "#                              CREDIT ANALYTICS",
      "metadata": {
        "is_collapsed": false,
        "formattedRanges": [],
        "deepnote_app_coordinates": {
          "h": 5,
          "w": 12,
          "x": 0,
          "y": 0
        },
        "cell_id": "6895a1c16c2e4ff2afcebbd370040987",
        "deepnote_cell_type": "text-cell-h1"
      },
      "block_group": "f54f0169b1e343fd97c4f61220cfdff8"
    },
    {
      "cell_type": "markdown",
      "source": "## Importing libraries/packages",
      "metadata": {
        "is_collapsed": false,
        "formattedRanges": [],
        "cell_id": "27747e19ac764ec191ffefaaaf0693e6",
        "deepnote_cell_type": "text-cell-h2"
      },
      "block_group": "2dc4e8e98d614ba4bcfe311f155b9cc4"
    },
    {
      "cell_type": "code",
      "source": "from google.cloud import bigquery\nfrom google.oauth2 import service_account\nimport pandas as pd",
      "metadata": {
        "source_hash": "a21c5b22",
        "execution_start": 1701126783265,
        "execution_millis": 961,
        "deepnote_app_coordinates": {
          "h": 5,
          "w": 12,
          "x": 0,
          "y": 0
        },
        "deepnote_to_be_reexecuted": false,
        "deepnote_app_is_code_hidden": true,
        "deepnote_app_is_output_hidden": true,
        "cell_id": "ad9d1de41d3746a582cc2ada8f4ee785",
        "deepnote_cell_type": "code"
      },
      "outputs": [],
      "execution_count": 1,
      "block_group": "ea45fdd7ddcb4485a33b39a61b56fcb6"
    },
    {
      "cell_type": "markdown",
      "source": "## CREATE CONNECTION TO BIGQUERY",
      "metadata": {
        "is_collapsed": false,
        "formattedRanges": [],
        "cell_id": "d6ebe057849f49db9dd9bac53fb33e39",
        "deepnote_cell_type": "text-cell-h2"
      },
      "block_group": "5b2527fa6b1f4fa6a29267ccb54e51ca"
    },
    {
      "cell_type": "code",
      "source": "KEY_PATH = '/work/datapro-405709-6e4eacf25d80.json'  # replace with your key path\nPROJECT_ID = 'datapro-405709'   # replace with your project id\n\n#Credentials and Client\nfrom google.oauth2 import service_account\ncredentials = service_account.Credentials.from_service_account_file(KEY_PATH)\nclient = bigquery.Client(credentials=credentials, project=PROJECT_ID)\n# Display the client details\nclient",
      "metadata": {
        "source_hash": "9931018e",
        "execution_start": 1701126784217,
        "execution_millis": 173,
        "deepnote_app_coordinates": {
          "h": 5,
          "w": 12,
          "x": 0,
          "y": 0
        },
        "deepnote_to_be_reexecuted": false,
        "deepnote_app_is_code_hidden": true,
        "deepnote_app_is_output_hidden": true,
        "cell_id": "3cb36b7af9124624a52486ad9164e955",
        "deepnote_cell_type": "code"
      },
      "outputs": [
        {
          "output_type": "execute_result",
          "execution_count": 2,
          "data": {
            "text/plain": "<google.cloud.bigquery.client.Client at 0x7f24bc7ddab0>"
          },
          "metadata": {}
        }
      ],
      "execution_count": 2,
      "block_group": "f6df885aaedc4846aee36fda89d21e5f"
    },
    {
      "cell_type": "markdown",
      "source": "## READ AND LOAD DATA FROM BIGQUERY",
      "metadata": {
        "is_collapsed": false,
        "formattedRanges": [],
        "cell_id": "d1a293ff1987493f91dfcff142d37c0f",
        "deepnote_cell_type": "text-cell-h2"
      },
      "block_group": "9a5925892d7d4961864eeaf8e5e82835"
    },
    {
      "cell_type": "code",
      "source": "query = \"SELECT * FROM `Credit_Business.Disbursements`\"\nquery_job = client.query(query)",
      "metadata": {
        "source_hash": "b61db4d",
        "execution_start": 1701126784367,
        "execution_millis": 359,
        "deepnote_app_coordinates": {
          "h": 5,
          "w": 12,
          "x": 0,
          "y": 0
        },
        "deepnote_to_be_reexecuted": false,
        "deepnote_app_is_code_hidden": true,
        "deepnote_app_is_output_hidden": true,
        "cell_id": "935dd7292292447f9d6807c1ce94ca92",
        "deepnote_cell_type": "code"
      },
      "outputs": [],
      "execution_count": 3,
      "block_group": "e5bf3e5f07a94817bc7e8c865d19ff15"
    },
    {
      "cell_type": "markdown",
      "source": "## CREATE PANDAS DATA FRAME ",
      "metadata": {
        "is_collapsed": false,
        "formattedRanges": [],
        "cell_id": "531191860e6d4a139f8779de6518cbb3",
        "deepnote_cell_type": "text-cell-h2"
      },
      "block_group": "4bf299a91efe4522aa9a35e1a899b16d"
    },
    {
      "cell_type": "code",
      "source": "# Retry the dataframe creation\ndf = query_job.to_dataframe()",
      "metadata": {
        "source_hash": "67ced27d",
        "execution_start": 1701126784727,
        "execution_millis": 1466,
        "deepnote_app_coordinates": {
          "h": 5,
          "w": 12,
          "x": 0,
          "y": 0
        },
        "deepnote_to_be_reexecuted": false,
        "deepnote_app_is_code_hidden": true,
        "deepnote_app_is_output_hidden": true,
        "cell_id": "498a22e46b324bee9e9d108329523d8e",
        "deepnote_cell_type": "code"
      },
      "outputs": [],
      "execution_count": 4,
      "block_group": "05ba75bf668a48aeae70fc50a384982c"
    },
    {
      "cell_type": "markdown",
      "source": "## DATA WRANGLING",
      "metadata": {
        "formattedRanges": [],
        "cell_id": "7148e2fd35d94f7fa45ef2b263bed4b9",
        "deepnote_cell_type": "text-cell-h2"
      },
      "block_group": "ae7faf3b14094e9fabbb4afbc0f2d0a3"
    },
    {
      "cell_type": "code",
      "source": "import db_dtypes\n# Retry the dataframe creation\ndf = query_job.to_dataframe()\n\n#SETTING PANDAS DISPLAY OPTIONS\npd.set_option('display.max_columns', None)\npd.set_option('display.max_colwidth', None)\npd.options.display.float_format = '{:,.2f}'.format\n\n#DROP COLUMNS\ncolumns_to_drop = ['Branch_Code', 'Account_Number', 'Account_Name', 'S_N', 'GROUP___CUSTOMER_NUMBER']\ndf = df.drop(columns=[col for col in columns_to_drop if col in df.columns])\n\n# CONVERTING DATATYPES\ndf = df.astype({\n    'Disbursed_Date': 'datetime64',\n    'Disbursed_By': 'string',\n    'Approved_By': 'string',\n    'Branch_Name': 'string',\n    'Insurance_company': 'string',\n    'Sub_Sector': 'string',\n    'Birth_date': 'datetime64',\n    'Due_days': 'int64',\n    'Interest_Rate': 'float64',\n    'Principal_Outstanding': 'float64',\n    'Interest_Outstanding': 'float64',\n    'Grace_Period': 'string',\n    'Loan_Cycle': 'int64',\n    'Term': 'string',\n    'Gender': 'string',\n    'Product': 'string',\n    'Sector': 'string',\n    'Disbursed___Amount': 'float64',   \n})\n\n#DATAFRAME HEAD AND TAIL\n#df.head(10)\n#df.tail(10)",
      "metadata": {
        "source_hash": "5a89d0bf",
        "execution_start": 1701126786190,
        "execution_millis": 786,
        "deepnote_table_state": {
          "sortBy": [],
          "filters": [],
          "pageSize": 10,
          "pageIndex": 9159
        },
        "deepnote_table_loading": false,
        "deepnote_app_coordinates": {
          "h": 5,
          "w": 12,
          "x": 0,
          "y": 0
        },
        "deepnote_to_be_reexecuted": false,
        "deepnote_app_is_code_hidden": true,
        "deepnote_app_is_output_hidden": true,
        "cell_id": "158fcedbd8314e44a635a9365935bea8",
        "deepnote_cell_type": "code"
      },
      "outputs": [],
      "execution_count": 5,
      "block_group": "8af274bd660448f28b365271053d3de6"
    },
    {
      "cell_type": "code",
      "source": "#DATA FRAME COLUMNS\n#print(df.columns)",
      "metadata": {
        "source_hash": "3752344e",
        "execution_start": 1701126786956,
        "execution_millis": 66,
        "deepnote_app_coordinates": {
          "h": 5,
          "w": 12,
          "x": 0,
          "y": 0
        },
        "deepnote_to_be_reexecuted": false,
        "deepnote_app_is_code_hidden": true,
        "deepnote_app_is_output_hidden": true,
        "cell_id": "b99aa543d01940a39635196e75315dc1",
        "deepnote_cell_type": "code"
      },
      "outputs": [],
      "execution_count": 6,
      "block_group": "e231297981454f708c16d905b24bbc20"
    },
    {
      "cell_type": "code",
      "source": "branches = df['Branch_Name'].unique()\nBranch_Names=branches\n#print(branches)",
      "metadata": {
        "source_hash": "ef935533",
        "execution_start": 1701126786957,
        "execution_millis": 72,
        "deepnote_app_coordinates": {
          "h": 5,
          "w": 12,
          "x": 0,
          "y": 0
        },
        "deepnote_to_be_reexecuted": false,
        "deepnote_app_is_code_hidden": true,
        "deepnote_app_is_output_hidden": true,
        "cell_id": "e05bffc300e948048b5309c8d123f776",
        "deepnote_cell_type": "code"
      },
      "outputs": [],
      "execution_count": 7,
      "block_group": "3f842bd757284f3dab1558e15773ed4c"
    },
    {
      "cell_type": "markdown",
      "source": "#                              Credit Sales",
      "metadata": {
        "is_collapsed": false,
        "formattedRanges": [],
        "deepnote_app_coordinates": {
          "h": 5,
          "w": 12,
          "x": 0,
          "y": 0
        },
        "cell_id": "2bd26ab4b4f6448588ad378f06cd7a8a",
        "deepnote_cell_type": "text-cell-h1"
      },
      "block_group": "29897062307b4296aef2ac2fb9091276"
    },
    {
      "cell_type": "markdown",
      "source": "### Select Dates",
      "metadata": {
        "is_collapsed": false,
        "formattedRanges": [],
        "deepnote_app_coordinates": {
          "h": 5,
          "w": 12,
          "x": 0,
          "y": 0
        },
        "cell_id": "33fd1a815aeb40a8a8e7fd3ecaed9724",
        "deepnote_cell_type": "text-cell-h3"
      },
      "block_group": "e832f794eecf4fe888bef50ee74df010"
    },
    {
      "cell_type": "code",
      "source": "\nfrom dateutil.parser import parse as _deepnote_parse\nStartDate = _deepnote_parse('2023-01-10T00:00:00.000Z').date()\n",
      "metadata": {
        "source_hash": "94b76c2c",
        "execution_start": 1701126786960,
        "execution_millis": 61,
        "deepnote_variable_name": "StartDate",
        "deepnote_variable_value": "2023-01-10T00:00:00.000Z",
        "deepnote_app_coordinates": {
          "h": 4,
          "w": 8,
          "x": 0,
          "y": 0
        },
        "deepnote_to_be_reexecuted": false,
        "deepnote_input_date_version": 2,
        "cell_id": "d0baf85188384bee832c866f73d7d038",
        "deepnote_cell_type": "input-date"
      },
      "outputs": [],
      "execution_count": 8,
      "block_group": "e1a50961d88246f5969c6d5dc82ae5e1"
    },
    {
      "cell_type": "code",
      "source": "\nfrom dateutil.parser import parse as _deepnote_parse\nEnddate = _deepnote_parse('2023-11-26T21:00:00.000Z').date()\n",
      "metadata": {
        "source_hash": "c2e36d21",
        "execution_start": 1701126786968,
        "execution_millis": 68,
        "deepnote_variable_name": "Enddate",
        "deepnote_variable_value": "2023-11-26T21:00:00.000Z",
        "deepnote_app_coordinates": {
          "h": 4,
          "w": 8,
          "x": 0,
          "y": 0
        },
        "deepnote_to_be_reexecuted": false,
        "deepnote_input_date_version": 2,
        "cell_id": "c0e1ddbce9c942bfb494d7d33827ed42",
        "deepnote_cell_type": "input-date"
      },
      "outputs": [],
      "execution_count": 9,
      "block_group": "3a860ec331ee4f30b515411cf7d5368e"
    },
    {
      "cell_type": "markdown",
      "source": "## Company Overview",
      "metadata": {
        "is_collapsed": false,
        "formattedRanges": [],
        "deepnote_app_coordinates": {
          "h": 5,
          "w": 12,
          "x": 0,
          "y": 0
        },
        "cell_id": "c264e8342adf49ac9247dc2bc15b1d78",
        "deepnote_cell_type": "text-cell-h2"
      },
      "block_group": "5613666dca094b79bfafd74b468e5d04"
    },
    {
      "cell_type": "code",
      "source": "# Start and end dates conversion to datetime\nStartDate = pd.to_datetime(StartDate)\nEnddate = pd.to_datetime(Enddate)\n\n# Filtering dataframe according to date range\ndf_date_range = df[(df['Disbursed_Date'] >= StartDate) & (df['Disbursed_Date'] <= Enddate)]\n\n# Calculation of total amount disbursed and number of disbursements at end date\nend_total_amount_disbursed = df_date_range['Disbursed___Amount'].sum()\nend_total_rows = len(df_date_range)\n\n# Calculation of total amount disbursed and number of disbursements at start date\nstart_df = df[df['Disbursed_Date'] < StartDate]\nstart_total_amount_disbursed = start_df['Disbursed___Amount'].sum()\nstart_total_rows = len(start_df)\n\n# Calculating the change amount and change number of disbursements from start date to end date\nchange_amount_disbursed = end_total_amount_disbursed - start_total_amount_disbursed\nchange_disbursements = end_total_rows - start_total_rows\n\n# Creating a new dataframe with all the information\ndisbursement_change = pd.DataFrame({\n    'Previous Amounts': [start_total_amount_disbursed],\n    'Cumulative Amount': [end_total_amount_disbursed],\n    'Change in Amounts': [change_amount_disbursed],\n    'Previous No': [start_total_rows],\n    'Cummulative No': [end_total_rows],\n    'Change in No': [change_disbursements],\n})\n\n# Applying formatting style and color formatting to the dataframe subset\ndisbursement_change.style.set_table_styles([{\"selector\": \"\", \"props\": [(\"border\", \"2px solid green\"), (\"width\", \"100%\")]}]).format({\n    'Previous Amounts': \"{:,.2f}\",\n    'Cumulative Amount': \"{:,.2f}\",\n    'Change in Amounts': \"{:,.2f}\",\n    'Previous No': \"{:,.0f}\",\n    'Cummulative No': \"{:,.0f}\",\n    'Change in No': \"{:,.0f}\"\n})",
      "metadata": {
        "source_hash": "b499ec64",
        "execution_start": 1701126787019,
        "execution_millis": 589,
        "deepnote_app_coordinates": {
          "h": 5,
          "w": 12,
          "x": 0,
          "y": 0
        },
        "deepnote_to_be_reexecuted": false,
        "deepnote_app_is_code_hidden": true,
        "deepnote_app_is_output_hidden": false,
        "cell_id": "c67967e269e64f1c8a67da468da07972",
        "deepnote_cell_type": "code"
      },
      "outputs": [
        {
          "output_type": "execute_result",
          "execution_count": 10,
          "data": {
            "text/plain": "<pandas.io.formats.style.Styler at 0x7f24bc82f9a0>",
            "text/html": "<style  type=\"text/css\" >\n    #T_6ba9f_  {\n          border: 2px solid green;\n          width: 100%;\n    }</style><table id=\"T_6ba9f_\" ><thead>    <tr>        <th class=\"blank level0\" ></th>        <th class=\"col_heading level0 col0\" >Previous Amounts</th>        <th class=\"col_heading level0 col1\" >Cumulative Amount</th>        <th class=\"col_heading level0 col2\" >Change in Amounts</th>        <th class=\"col_heading level0 col3\" >Previous No</th>        <th class=\"col_heading level0 col4\" >Cummulative No</th>        <th class=\"col_heading level0 col5\" >Change in No</th>    </tr></thead><tbody>\n                <tr>\n                        <th id=\"T_6ba9f_level0_row0\" class=\"row_heading level0 row0\" >0</th>\n                        <td id=\"T_6ba9f_row0_col0\" class=\"data row0 col0\" >4,210,976,797.99</td>\n                        <td id=\"T_6ba9f_row0_col1\" class=\"data row0 col1\" >270,716,759,877.03</td>\n                        <td id=\"T_6ba9f_row0_col2\" class=\"data row0 col2\" >266,505,783,079.04</td>\n                        <td id=\"T_6ba9f_row0_col3\" class=\"data row0 col3\" >1,076</td>\n                        <td id=\"T_6ba9f_row0_col4\" class=\"data row0 col4\" >90,523</td>\n                        <td id=\"T_6ba9f_row0_col5\" class=\"data row0 col5\" >89,447</td>\n            </tr>\n    </tbody></table>"
          },
          "metadata": {}
        }
      ],
      "execution_count": 10,
      "block_group": "0a6812843e8f473db92089297bd336f8"
    },
    {
      "cell_type": "code",
      "source": "",
      "metadata": {
        "source_hash": "b623e53d",
        "execution_start": 1701126787611,
        "execution_millis": 36,
        "deepnote_app_coordinates": {
          "h": 5,
          "w": 12,
          "x": 0,
          "y": 0
        },
        "deepnote_to_be_reexecuted": false,
        "cell_id": "3320f1727d3b4bf9b7879522a1ec98f3",
        "deepnote_cell_type": "code"
      },
      "outputs": [],
      "execution_count": 11,
      "block_group": "a523c35180c24f19bd26a3477412bedb"
    },
    {
      "cell_type": "markdown",
      "source": "<a style='text-decoration:none;line-height:16px;display:flex;color:#5B5B62;padding:10px;justify-content:end;' href='https://deepnote.com?utm_source=created-in-deepnote-cell&projectId=34c99b87-7747-401d-b203-ddc5eb2646f3' target=\"_blank\">\n<img alt='Created in deepnote.com' style='display:inline;max-height:16px;margin:0px;margin-right:7.5px;' src='data:image/svg+xml;base64,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' > </img>\nCreated in <span style='font-weight:600;margin-left:4px;'>Deepnote</span></a>",
      "metadata": {
        "created_in_deepnote_cell": true,
        "deepnote_cell_type": "markdown"
      }
    }
  ],
  "nbformat": 4,
  "nbformat_minor": 0,
  "metadata": {
    "deepnote": {},
    "orig_nbformat": 2,
    "deepnote_app_width": "full-width",
    "deepnote_app_layout": "powerful-article",
    "deepnote_full_width": true,
    "deepnote_notebook_id": "c329fe40572a43148ade2e980fbcd92c",
    "deepnote_app_clear_outputs": false,
    "deepnote_app_table_of_contents_enabled": true,
    "deepnote_app_hide_all_code_blocks_enabled": false,
    "deepnote_execution_queue": []
  }
}