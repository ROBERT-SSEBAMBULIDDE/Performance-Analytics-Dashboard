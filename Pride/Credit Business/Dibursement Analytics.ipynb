{
  "cells": [
    {
      "cell_type": "markdown",
      "source": "#                              CREDIT ANALYTICS",
      "metadata": {
        "is_collapsed": false,
        "formattedRanges": [],
        "cell_id": "6895a1c16c2e4ff2afcebbd370040987",
        "deepnote_cell_type": "text-cell-h1"
      },
      "block_group": "f54f0169b1e343fd97c4f61220cfdff8"
    },
    {
      "cell_type": "markdown",
      "source": "## Importing libraries/packages",
      "metadata": {
        "is_collapsed": false,
        "formattedRanges": [],
        "cell_id": "27747e19ac764ec191ffefaaaf0693e6",
        "deepnote_cell_type": "text-cell-h2"
      },
      "block_group": "2dc4e8e98d614ba4bcfe311f155b9cc4"
    },
    {
      "cell_type": "code",
      "source": "from google.cloud import bigquery\nfrom google.oauth2 import service_account\nimport pandas as pd\nimport db_dtypes",
      "metadata": {
        "source_hash": null,
        "execution_start": 1701082080259,
        "execution_millis": 785,
        "deepnote_to_be_reexecuted": false,
        "cell_id": "ad9d1de41d3746a582cc2ada8f4ee785",
        "deepnote_cell_type": "code"
      },
      "outputs": [],
      "execution_count": null,
      "block_group": "ea45fdd7ddcb4485a33b39a61b56fcb6"
    },
    {
      "cell_type": "markdown",
      "source": "## CREATE CONNECTION TO BIGQUERY",
      "metadata": {
        "is_collapsed": false,
        "formattedRanges": [],
        "cell_id": "d6ebe057849f49db9dd9bac53fb33e39",
        "deepnote_cell_type": "text-cell-h2"
      },
      "block_group": "5b2527fa6b1f4fa6a29267ccb54e51ca"
    },
    {
      "cell_type": "code",
      "source": "\n#Credentials and Client\nfrom google.oauth2 import service_account\ncredentials = service_account.Credentials.from_service_account_file(KEY_PATH)\nclient = bigquery.Client(credentials=credentials, project=PROJECT_ID)\n\n# Display the client details\nclient",
      "metadata": {
        "source_hash": null,
        "execution_start": 1701082532508,
        "execution_millis": 597,
        "deepnote_to_be_reexecuted": false,
        "cell_id": "3cb36b7af9124624a52486ad9164e955",
        "deepnote_cell_type": "code"
      },
      "outputs": [
        {
          "output_type": "execute_result",
          "execution_count": 14,
          "data": {
            "text/plain": "<google.cloud.bigquery.client.Client at 0x7f9360522f20>"
          },
          "metadata": {}
        }
      ],
      "execution_count": null,
      "block_group": "f6df885aaedc4846aee36fda89d21e5f"
    },
    {
      "cell_type": "markdown",
      "source": "## READ AND LOAD DATA FROM BIGQUERY",
      "metadata": {
        "is_collapsed": false,
        "formattedRanges": [],
        "cell_id": "d1a293ff1987493f91dfcff142d37c0f",
        "deepnote_cell_type": "text-cell-h2"
      },
      "block_group": "9a5925892d7d4961864eeaf8e5e82835"
    },
    {
      "cell_type": "code",
      "source": "query = \"SELECT * FROM `Credit_Business.Disbursements`\"\nquery_job = client.query(query)",
      "metadata": {
        "source_hash": null,
        "execution_start": 1701082081305,
        "execution_millis": 457,
        "deepnote_to_be_reexecuted": false,
        "cell_id": "935dd7292292447f9d6807c1ce94ca92",
        "deepnote_cell_type": "code"
      },
      "outputs": [],
      "execution_count": null,
      "block_group": "e5bf3e5f07a94817bc7e8c865d19ff15"
    },
    {
      "cell_type": "markdown",
      "source": "## CREATE PANDAS DATA FRAME ",
      "metadata": {
        "is_collapsed": false,
        "formattedRanges": [],
        "cell_id": "531191860e6d4a139f8779de6518cbb3",
        "deepnote_cell_type": "text-cell-h2"
      },
      "block_group": "4bf299a91efe4522aa9a35e1a899b16d"
    },
    {
      "cell_type": "code",
      "source": "#Converting the query result into pandas dataframe\ndf = query_job.to_dataframe()",
      "metadata": {
        "cell_id": "498a22e46b324bee9e9d108329523d8e",
        "deepnote_cell_type": "code"
      },
      "outputs": [],
      "execution_count": null,
      "block_group": "05ba75bf668a48aeae70fc50a384982c"
    },
    {
      "cell_type": "markdown",
      "source": "## DATA WRANGLING",
      "metadata": {
        "formattedRanges": [],
        "cell_id": "7148e2fd35d94f7fa45ef2b263bed4b9",
        "deepnote_cell_type": "text-cell-h2"
      },
      "block_group": "ae7faf3b14094e9fabbb4afbc0f2d0a3"
    },
    {
      "cell_type": "code",
      "source": "#SETTING PANDAS DISPLAY OPTIONS\npd.set_option('display.max_columns', None)\npd.set_option('display.max_colwidth', None)\npd.options.display.float_format = '{:,.2f}'.format\n\n#DROP COLUMNS\ncolumns_to_drop = ['Branch_Code', 'Account_Number', 'Account_Name', 'S_N', 'GROUP___CUSTOMER_NUMBER']\ndf = df.drop(columns=[col for col in columns_to_drop if col in df.columns])\n\n# CONVERTING DATATYPES\ndf = df.astype({\n    'Disbursed_Date': 'datetime64',\n    'Disbursed_By': 'string',\n    'Approved_By': 'string',\n    'Branch_Name': 'string',\n    'Insurance_company': 'string',\n    'Sub_Sector': 'string',\n    'Birth_date': 'datetime64',\n    'Due_days': 'int64',\n    'Interest_Rate': 'float64',\n    'Principal_Outstanding': 'float64',\n    'Interest_Outstanding': 'float64',\n    'Grace_Period': 'string',\n    'Loan_Cycle': 'int64',\n    'Term': 'string',\n    'Gender': 'string',\n    'Product': 'string',\n    'Sector': 'string',\n    'Disbursed___Amount': 'float64',   \n})\n\n#DATAFRAME HEAD AND TAIL\ndf.head(10)\n#df.tail(10)\n",
      "metadata": {
        "source_hash": null,
        "execution_start": 1701082783532,
        "execution_millis": 1613,
        "deepnote_table_state": {
          "sortBy": [],
          "filters": [],
          "pageSize": 10,
          "pageIndex": 9159
        },
        "deepnote_table_loading": false,
        "deepnote_to_be_reexecuted": false,
        "cell_id": "158fcedbd8314e44a635a9365935bea8",
        "deepnote_cell_type": "code"
      },
      "outputs": [
        {
          "output_type": "execute_result",
          "execution_count": 17,
          "data": {
            "application/vnd.deepnote.dataframe.v3+json": {
              "column_count": 18,
              "row_count": 91599,
              "columns": [
                {
                  "name": "Branch_Name",
                  "dtype": "string",
                  "stats": {
                    "unique_count": 45,
                    "nan_count": 0,
                    "categories": [
                      {
                        "name": "City Centre",
                        "count": 4711
                      },
                      {
                        "name": "Mukono",
                        "count": 4409
                      },
                      {
                        "name": "43 others",
                        "count": 82479
                      }
                    ]
                  }
                },
                {
                  "name": "Gender",
                  "dtype": "string"
                },
                {
                  "name": "Birth_date",
                  "dtype": "datetime64[ns]"
                },
                {
                  "name": "Product",
                  "dtype": "string"
                },
                {
                  "name": "Sector",
                  "dtype": "string"
                },
                {
                  "name": "Loan_Cycle",
                  "dtype": "int64"
                },
                {
                  "name": "Term",
                  "dtype": "string"
                },
                {
                  "name": "Disbursed___Amount",
                  "dtype": "float64"
                },
                {
                  "name": "Interest_Rate",
                  "dtype": "float64"
                },
                {
                  "name": "Principal_Outstanding",
                  "dtype": "float64"
                },
                {
                  "name": "Interest_Outstanding",
                  "dtype": "float64"
                },
                {
                  "name": "Grace_Period",
                  "dtype": "string"
                },
                {
                  "name": "Due_days",
                  "dtype": "int64"
                },
                {
                  "name": "Disbursed_Date",
                  "dtype": "datetime64[ns]"
                },
                {
                  "name": "Disbursed_By",
                  "dtype": "string"
                },
                {
                  "name": "Approved_By",
                  "dtype": "string"
                },
                {
                  "name": "Insurance_company",
                  "dtype": "string"
                },
                {
                  "name": "Sub_Sector",
                  "dtype": "string"
                },
                {
                  "name": "_deepnote_index_column",
                  "dtype": "int64"
                }
              ],
              "rows": [
                {
                  "Branch_Name": "Kabwohe",
                  "Gender": "M",
                  "Birth_date": "1996-05-25 00:00:00",
                  "Product": "Community Banking Loans",
                  "Sector": "Trade",
                  "Loan_Cycle": 2,
                  "Term": "40 W",
                  "Disbursed___Amount": 500000,
                  "Interest_Rate": 0.145,
                  "Principal_Outstanding": 144432.67,
                  "Interest_Outstanding": 15336.56,
                  "Grace_Period": "1 W",
                  "Due_days": 0,
                  "Disbursed_Date": "2023-08-04 00:00:00",
                  "Disbursed_By": "ATURIHIHI ADSON",
                  "Approved_By": "Sarah Kakande",
                  "Insurance_company": "Liberty Life Insurance",
                  "Sub_Sector": "Exports",
                  "_deepnote_index_column": 91590
                },
                {
                  "Branch_Name": "Kabwohe",
                  "Gender": "M",
                  "Birth_date": "1965-03-03 00:00:00",
                  "Product": "Community Banking Loans",
                  "Sector": "Trade",
                  "Loan_Cycle": 1,
                  "Term": "40 W",
                  "Disbursed___Amount": 500000,
                  "Interest_Rate": 0.18,
                  "Principal_Outstanding": 409346.16,
                  "Interest_Outstanding": 55384.61,
                  "Grace_Period": "4 W",
                  "Due_days": 0,
                  "Disbursed_Date": "2023-09-08 00:00:00",
                  "Disbursed_By": "ATURIHIHI ADSON",
                  "Approved_By": "Sarah Kakande",
                  "Insurance_company": "Liberty Life Insurance",
                  "Sub_Sector": "Exports",
                  "_deepnote_index_column": 91591
                },
                {
                  "Branch_Name": "Kabwohe",
                  "Gender": "F",
                  "Birth_date": "1991-02-02 00:00:00",
                  "Product": "Community Banking Loans",
                  "Sector": "Trade",
                  "Loan_Cycle": 1,
                  "Term": "40 W",
                  "Disbursed___Amount": 200000,
                  "Interest_Rate": 0.29,
                  "Principal_Outstanding": 108692.41,
                  "Interest_Outstanding": 23422.97,
                  "Grace_Period": "1 W",
                  "Due_days": 0,
                  "Disbursed_Date": "2023-07-07 00:00:00",
                  "Disbursed_By": "ATURIHIHI ADSON",
                  "Approved_By": "Sarah Kakande",
                  "Insurance_company": "Liberty Life Insurance",
                  "Sub_Sector": "Exports",
                  "_deepnote_index_column": 91592
                },
                {
                  "Branch_Name": "Kabwohe",
                  "Gender": "F",
                  "Birth_date": "1972-12-12 00:00:00",
                  "Product": "Community Banking Loans",
                  "Sector": "Trade",
                  "Loan_Cycle": 1,
                  "Term": "40 W",
                  "Disbursed___Amount": 500000,
                  "Interest_Rate": 0.145,
                  "Principal_Outstanding": 333449.5,
                  "Interest_Outstanding": 36120.55,
                  "Grace_Period": "1 W",
                  "Due_days": 0,
                  "Disbursed_Date": "2023-07-28 00:00:00",
                  "Disbursed_By": "ATURIHIHI ADSON",
                  "Approved_By": "Sarah Kakande",
                  "Insurance_company": "Liberty Life Insurance",
                  "Sub_Sector": "Exports",
                  "_deepnote_index_column": 91593
                },
                {
                  "Branch_Name": "Kabwohe",
                  "Gender": "M",
                  "Birth_date": "1997-05-22 00:00:00",
                  "Product": "Community Banking Loans",
                  "Sector": "Trade",
                  "Loan_Cycle": 1,
                  "Term": "40 W",
                  "Disbursed___Amount": 1000000,
                  "Interest_Rate": 0.29,
                  "Principal_Outstanding": 649653.8,
                  "Interest_Outstanding": 139423.12,
                  "Grace_Period": "1 W",
                  "Due_days": 0,
                  "Disbursed_Date": "2023-07-14 00:00:00",
                  "Disbursed_By": "ATURIHIHI ADSON",
                  "Approved_By": "Sarah Kakande",
                  "Insurance_company": "Liberty Life Insurance",
                  "Sub_Sector": "Exports",
                  "_deepnote_index_column": 91594
                },
                {
                  "Branch_Name": "Kabwohe",
                  "Gender": "F",
                  "Birth_date": "1957-12-23 00:00:00",
                  "Product": "Community Banking Loans",
                  "Sector": "Trade",
                  "Loan_Cycle": 1,
                  "Term": "40 W",
                  "Disbursed___Amount": 500000,
                  "Interest_Rate": 0.18,
                  "Principal_Outstanding": 487500,
                  "Interest_Outstanding": 67230.77,
                  "Grace_Period": "1 W",
                  "Due_days": 0,
                  "Disbursed_Date": "2023-10-13 00:00:00",
                  "Disbursed_By": "BISHERURWA CONRAD",
                  "Approved_By": "Robert Kiwanuka",
                  "Insurance_company": "Liberty Life Insurance",
                  "Sub_Sector": "Exports",
                  "_deepnote_index_column": 91595
                },
                {
                  "Branch_Name": "Kabwohe",
                  "Gender": "F",
                  "Birth_date": "1996-09-09 00:00:00",
                  "Product": "Community Banking Loans",
                  "Sector": "Trade",
                  "Loan_Cycle": 1,
                  "Term": "40 W",
                  "Disbursed___Amount": 500000,
                  "Interest_Rate": 0.29,
                  "Principal_Outstanding": 310615.36,
                  "Interest_Outstanding": 66923.1,
                  "Grace_Period": "1 W",
                  "Due_days": 0,
                  "Disbursed_Date": "2023-07-07 00:00:00",
                  "Disbursed_By": "ATURIHIHI ADSON",
                  "Approved_By": "Sarah Kakande",
                  "Insurance_company": "Liberty Life Insurance",
                  "Sub_Sector": "Exports",
                  "_deepnote_index_column": 91596
                },
                {
                  "Branch_Name": "Kabwohe",
                  "Gender": "M",
                  "Birth_date": "1967-02-17 00:00:00",
                  "Product": "Community Banking Loans",
                  "Sector": "Trade",
                  "Loan_Cycle": 1,
                  "Term": "40 W",
                  "Disbursed___Amount": 1000000,
                  "Interest_Rate": 0.29,
                  "Principal_Outstanding": 624230.72,
                  "Interest_Outstanding": 133846.2,
                  "Grace_Period": "1 W",
                  "Due_days": 0,
                  "Disbursed_Date": "2023-07-07 00:00:00",
                  "Disbursed_By": "ATURIHIHI ADSON",
                  "Approved_By": "Sarah Kakande",
                  "Insurance_company": "Liberty Life Insurance",
                  "Sub_Sector": "Exports",
                  "_deepnote_index_column": 91597
                },
                {
                  "Branch_Name": "Kabwohe",
                  "Gender": "F",
                  "Birth_date": "1977-10-05 00:00:00",
                  "Product": "Community Banking Loans",
                  "Sector": "Trade",
                  "Loan_Cycle": 1,
                  "Term": "40 W",
                  "Disbursed___Amount": 500000,
                  "Interest_Rate": 0.18,
                  "Principal_Outstanding": 461898.36,
                  "Interest_Outstanding": 62085.16,
                  "Grace_Period": "1 W",
                  "Due_days": 0,
                  "Disbursed_Date": "2023-09-29 00:00:00",
                  "Disbursed_By": "ATURIHIHI ADSON",
                  "Approved_By": "Robert Kiwanuka",
                  "Insurance_company": "Liberty Life Insurance",
                  "Sub_Sector": "Exports",
                  "_deepnote_index_column": 91598
                }
              ]
            },
            "text/plain": "       Branch_Name Gender Birth_date                  Product  \\\n0      Head Office      M 1987-08-08     Staff Salary Advance   \n1      Head Office      M 1992-05-02     Staff Salary Advance   \n2      Head Office      M 1987-02-07     Staff Salary Advance   \n3      Head Office      F 1990-03-03     Staff Salary Advance   \n4      Head Office      M 1990-04-10     Staff Salary Advance   \n...            ...    ...        ...                      ...   \n91594      Kabwohe      M 1997-05-22  Community Banking Loans   \n91595      Kabwohe      F 1957-12-23  Community Banking Loans   \n91596      Kabwohe      F 1996-09-09  Community Banking Loans   \n91597      Kabwohe      M 1967-02-17  Community Banking Loans   \n91598      Kabwohe      F 1977-10-05  Community Banking Loans   \n\n                                   Sector  Loan_Cycle  Term  \\\n0                                   Trade           8   6 M   \n1      Personal Loans and Household Loans           8   6 M   \n2      Personal Loans and Household Loans           3   6 M   \n3      Personal Loans and Household Loans           4   6 M   \n4      Personal Loans and Household Loans           2   6 M   \n...                                   ...         ...   ...   \n91594                               Trade           1  40 W   \n91595                               Trade           1  40 W   \n91596                               Trade           1  40 W   \n91597                               Trade           1  40 W   \n91598                               Trade           1  40 W   \n\n       Disbursed___Amount  Interest_Rate  Principal_Outstanding  \\\n0            1,000,000.00           0.00           1,000,000.00   \n1            2,700,000.00           0.00           2,700,000.00   \n2            4,000,000.00           0.00           4,000,000.00   \n3            7,500,000.00           0.00           7,500,000.00   \n4            3,100,000.00           0.00           3,100,000.00   \n...                   ...            ...                    ...   \n91594        1,000,000.00           0.29             649,653.80   \n91595          500,000.00           0.18             487,500.00   \n91596          500,000.00           0.29             310,615.36   \n91597        1,000,000.00           0.29             624,230.72   \n91598          500,000.00           0.18             461,898.36   \n\n       Interest_Outstanding Grace_Period  Due_days Disbursed_Date  \\\n0                      0.00         <NA>         0     2023-11-10   \n1                      0.00         <NA>         0     2023-11-07   \n2                      0.00         <NA>         0     2023-11-06   \n3                      0.00         <NA>         0     2023-11-01   \n4                      0.00         <NA>         0     2023-11-10   \n...                     ...          ...       ...            ...   \n91594            139,423.12          1 W         0     2023-07-14   \n91595             67,230.77          1 W         0     2023-10-13   \n91596             66,923.10          1 W         0     2023-07-07   \n91597            133,846.20          1 W         0     2023-07-07   \n91598             62,085.16          1 W         0     2023-09-29   \n\n            Disbursed_By       Approved_By       Insurance_company  \\\n0             ODONG ALEX     Yahaya Ochaya                    <NA>   \n1             ODONG ALEX  Solomon Mwesigwa                    <NA>   \n2             ODONG ALEX     Henry Bukenya                    <NA>   \n3        NAMIREMBE MILLY      Jimmy Kasoro                    <NA>   \n4             ODONG ALEX     Yahaya Ochaya                    <NA>   \n...                  ...               ...                     ...   \n91594    ATURIHIHI ADSON     Sarah Kakande  Liberty Life Insurance   \n91595  BISHERURWA CONRAD   Robert Kiwanuka  Liberty Life Insurance   \n91596    ATURIHIHI ADSON     Sarah Kakande  Liberty Life Insurance   \n91597    ATURIHIHI ADSON     Sarah Kakande  Liberty Life Insurance   \n91598    ATURIHIHI ADSON   Robert Kiwanuka  Liberty Life Insurance   \n\n                               Sub_Sector  \n0                                 Exports  \n1      Personal Loans and Household Loans  \n2      Personal Loans and Household Loans  \n3      Personal Loans and Household Loans  \n4      Personal Loans and Household Loans  \n...                                   ...  \n91594                             Exports  \n91595                             Exports  \n91596                             Exports  \n91597                             Exports  \n91598                             Exports  \n\n[91599 rows x 18 columns]",
            "text/html": "<div>\n<style scoped>\n    .dataframe tbody tr th:only-of-type {\n        vertical-align: middle;\n    }\n\n    .dataframe tbody tr th {\n        vertical-align: top;\n    }\n\n    .dataframe thead th {\n        text-align: right;\n    }\n</style>\n<table border=\"1\" class=\"dataframe\">\n  <thead>\n    <tr style=\"text-align: right;\">\n      <th></th>\n      <th>Branch_Name</th>\n      <th>Gender</th>\n      <th>Birth_date</th>\n      <th>Product</th>\n      <th>Sector</th>\n      <th>Loan_Cycle</th>\n      <th>Term</th>\n      <th>Disbursed___Amount</th>\n      <th>Interest_Rate</th>\n      <th>Principal_Outstanding</th>\n      <th>Interest_Outstanding</th>\n      <th>Grace_Period</th>\n      <th>Due_days</th>\n      <th>Disbursed_Date</th>\n      <th>Disbursed_By</th>\n      <th>Approved_By</th>\n      <th>Insurance_company</th>\n      <th>Sub_Sector</th>\n    </tr>\n  </thead>\n  <tbody>\n    <tr>\n      <th>0</th>\n      <td>Head Office</td>\n      <td>M</td>\n      <td>1987-08-08</td>\n      <td>Staff Salary Advance</td>\n      <td>Trade</td>\n      <td>8</td>\n      <td>6 M</td>\n      <td>1,000,000.00</td>\n      <td>0.00</td>\n      <td>1,000,000.00</td>\n      <td>0.00</td>\n      <td>&lt;NA&gt;</td>\n      <td>0</td>\n      <td>2023-11-10</td>\n      <td>ODONG ALEX</td>\n      <td>Yahaya Ochaya</td>\n      <td>&lt;NA&gt;</td>\n      <td>Exports</td>\n    </tr>\n    <tr>\n      <th>1</th>\n      <td>Head Office</td>\n      <td>M</td>\n      <td>1992-05-02</td>\n      <td>Staff Salary Advance</td>\n      <td>Personal Loans and Household Loans</td>\n      <td>8</td>\n      <td>6 M</td>\n      <td>2,700,000.00</td>\n      <td>0.00</td>\n      <td>2,700,000.00</td>\n      <td>0.00</td>\n      <td>&lt;NA&gt;</td>\n      <td>0</td>\n      <td>2023-11-07</td>\n      <td>ODONG ALEX</td>\n      <td>Solomon Mwesigwa</td>\n      <td>&lt;NA&gt;</td>\n      <td>Personal Loans and Household Loans</td>\n    </tr>\n    <tr>\n      <th>2</th>\n      <td>Head Office</td>\n      <td>M</td>\n      <td>1987-02-07</td>\n      <td>Staff Salary Advance</td>\n      <td>Personal Loans and Household Loans</td>\n      <td>3</td>\n      <td>6 M</td>\n      <td>4,000,000.00</td>\n      <td>0.00</td>\n      <td>4,000,000.00</td>\n      <td>0.00</td>\n      <td>&lt;NA&gt;</td>\n      <td>0</td>\n      <td>2023-11-06</td>\n      <td>ODONG ALEX</td>\n      <td>Henry Bukenya</td>\n      <td>&lt;NA&gt;</td>\n      <td>Personal Loans and Household Loans</td>\n    </tr>\n    <tr>\n      <th>3</th>\n      <td>Head Office</td>\n      <td>F</td>\n      <td>1990-03-03</td>\n      <td>Staff Salary Advance</td>\n      <td>Personal Loans and Household Loans</td>\n      <td>4</td>\n      <td>6 M</td>\n      <td>7,500,000.00</td>\n      <td>0.00</td>\n      <td>7,500,000.00</td>\n      <td>0.00</td>\n      <td>&lt;NA&gt;</td>\n      <td>0</td>\n      <td>2023-11-01</td>\n      <td>NAMIREMBE MILLY</td>\n      <td>Jimmy Kasoro</td>\n      <td>&lt;NA&gt;</td>\n      <td>Personal Loans and Household Loans</td>\n    </tr>\n    <tr>\n      <th>4</th>\n      <td>Head Office</td>\n      <td>M</td>\n      <td>1990-04-10</td>\n      <td>Staff Salary Advance</td>\n      <td>Personal Loans and Household Loans</td>\n      <td>2</td>\n      <td>6 M</td>\n      <td>3,100,000.00</td>\n      <td>0.00</td>\n      <td>3,100,000.00</td>\n      <td>0.00</td>\n      <td>&lt;NA&gt;</td>\n      <td>0</td>\n      <td>2023-11-10</td>\n      <td>ODONG ALEX</td>\n      <td>Yahaya Ochaya</td>\n      <td>&lt;NA&gt;</td>\n      <td>Personal Loans and Household Loans</td>\n    </tr>\n    <tr>\n      <th>...</th>\n      <td>...</td>\n      <td>...</td>\n      <td>...</td>\n      <td>...</td>\n      <td>...</td>\n      <td>...</td>\n      <td>...</td>\n      <td>...</td>\n      <td>...</td>\n      <td>...</td>\n      <td>...</td>\n      <td>...</td>\n      <td>...</td>\n      <td>...</td>\n      <td>...</td>\n      <td>...</td>\n      <td>...</td>\n      <td>...</td>\n    </tr>\n    <tr>\n      <th>91594</th>\n      <td>Kabwohe</td>\n      <td>M</td>\n      <td>1997-05-22</td>\n      <td>Community Banking Loans</td>\n      <td>Trade</td>\n      <td>1</td>\n      <td>40 W</td>\n      <td>1,000,000.00</td>\n      <td>0.29</td>\n      <td>649,653.80</td>\n      <td>139,423.12</td>\n      <td>1 W</td>\n      <td>0</td>\n      <td>2023-07-14</td>\n      <td>ATURIHIHI ADSON</td>\n      <td>Sarah Kakande</td>\n      <td>Liberty Life Insurance</td>\n      <td>Exports</td>\n    </tr>\n    <tr>\n      <th>91595</th>\n      <td>Kabwohe</td>\n      <td>F</td>\n      <td>1957-12-23</td>\n      <td>Community Banking Loans</td>\n      <td>Trade</td>\n      <td>1</td>\n      <td>40 W</td>\n      <td>500,000.00</td>\n      <td>0.18</td>\n      <td>487,500.00</td>\n      <td>67,230.77</td>\n      <td>1 W</td>\n      <td>0</td>\n      <td>2023-10-13</td>\n      <td>BISHERURWA CONRAD</td>\n      <td>Robert Kiwanuka</td>\n      <td>Liberty Life Insurance</td>\n      <td>Exports</td>\n    </tr>\n    <tr>\n      <th>91596</th>\n      <td>Kabwohe</td>\n      <td>F</td>\n      <td>1996-09-09</td>\n      <td>Community Banking Loans</td>\n      <td>Trade</td>\n      <td>1</td>\n      <td>40 W</td>\n      <td>500,000.00</td>\n      <td>0.29</td>\n      <td>310,615.36</td>\n      <td>66,923.10</td>\n      <td>1 W</td>\n      <td>0</td>\n      <td>2023-07-07</td>\n      <td>ATURIHIHI ADSON</td>\n      <td>Sarah Kakande</td>\n      <td>Liberty Life Insurance</td>\n      <td>Exports</td>\n    </tr>\n    <tr>\n      <th>91597</th>\n      <td>Kabwohe</td>\n      <td>M</td>\n      <td>1967-02-17</td>\n      <td>Community Banking Loans</td>\n      <td>Trade</td>\n      <td>1</td>\n      <td>40 W</td>\n      <td>1,000,000.00</td>\n      <td>0.29</td>\n      <td>624,230.72</td>\n      <td>133,846.20</td>\n      <td>1 W</td>\n      <td>0</td>\n      <td>2023-07-07</td>\n      <td>ATURIHIHI ADSON</td>\n      <td>Sarah Kakande</td>\n      <td>Liberty Life Insurance</td>\n      <td>Exports</td>\n    </tr>\n    <tr>\n      <th>91598</th>\n      <td>Kabwohe</td>\n      <td>F</td>\n      <td>1977-10-05</td>\n      <td>Community Banking Loans</td>\n      <td>Trade</td>\n      <td>1</td>\n      <td>40 W</td>\n      <td>500,000.00</td>\n      <td>0.18</td>\n      <td>461,898.36</td>\n      <td>62,085.16</td>\n      <td>1 W</td>\n      <td>0</td>\n      <td>2023-09-29</td>\n      <td>ATURIHIHI ADSON</td>\n      <td>Robert Kiwanuka</td>\n      <td>Liberty Life Insurance</td>\n      <td>Exports</td>\n    </tr>\n  </tbody>\n</table>\n<p>91599 rows × 18 columns</p>\n</div>"
          },
          "metadata": {}
        }
      ],
      "execution_count": null,
      "block_group": "8af274bd660448f28b365271053d3de6"
    },
    {
      "cell_type": "code",
      "source": "#DATA FRAME COLUMNS\n#print(df.columns)",
      "metadata": {
        "source_hash": null,
        "execution_start": 1701085669155,
        "execution_millis": 8,
        "deepnote_app_coordinates": {
          "h": 5,
          "w": 12,
          "x": 0,
          "y": 0
        },
        "deepnote_to_be_reexecuted": false,
        "cell_id": "b99aa543d01940a39635196e75315dc1",
        "deepnote_cell_type": "code"
      },
      "outputs": [],
      "execution_count": null,
      "block_group": "e231297981454f708c16d905b24bbc20"
    },
    {
      "cell_type": "markdown",
      "source": "<a style='text-decoration:none;line-height:16px;display:flex;color:#5B5B62;padding:10px;justify-content:end;' href='https://deepnote.com?utm_source=created-in-deepnote-cell&projectId=34c99b87-7747-401d-b203-ddc5eb2646f3' target=\"_blank\">\n<img alt='Created in deepnote.com' style='display:inline;max-height:16px;margin:0px;margin-right:7.5px;' src='data:image/svg+xml;base64,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' > </img>\nCreated in <span style='font-weight:600;margin-left:4px;'>Deepnote</span></a>",
      "metadata": {
        "created_in_deepnote_cell": true,
        "deepnote_cell_type": "markdown"
      }
    }
  ],
  "nbformat": 4,
  "nbformat_minor": 0,
  "metadata": {
    "deepnote": {},
    "orig_nbformat": 2,
    "deepnote_full_width": true,
    "deepnote_notebook_id": "c329fe40572a43148ade2e980fbcd92c",
    "deepnote_execution_queue": []
  }
}